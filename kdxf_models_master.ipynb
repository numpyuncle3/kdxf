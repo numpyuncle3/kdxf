{
 "cells": [
  {
   "cell_type": "code",
   "execution_count": 20,
   "metadata": {},
   "outputs": [],
   "source": [
    "#添加路径\n",
    "import os\n",
    "import sys\n",
    "'''\n",
    "sys.path.append('/home/tione/notebook/LightGBM/python-package/')\n",
    "sys.path.append('/opt/spark-2.4.5-bin-hadoop2.7/python')\n",
    "sys.path.append('/home/tione/notebook')\n",
    "sys.path.append('/opt/conda/envs/JupyterSystemEnv/lib/python36.zip')\n",
    "sys.path.append('/opt/conda/envs/JupyterSystemEnv/lib/python3.6')\n",
    "sys.path.append('/opt/conda/envs/JupyterSystemEnv/lib/python3.6/lib-dynload')\n",
    "sys.path.append('/home/tione/.local/lib/python3.6/site-packages')\n",
    "sys.path.append('/opt/conda/envs/JupyterSystemEnv/lib/python3.6/site-packages')\n",
    "sys.path.append('/opt/conda/envs/JupyterSystemEnv/lib/python3.6/site-packages/xgboost')\n",
    "'''\n",
    "ko = ['', '/opt/spark-2.4.5-bin-hadoop2.7/python', '/home/tione/notebook', '/opt/conda/envs/JupyterSystemEnv/lib/python36.zip', \n",
    "      '/opt/conda/envs/JupyterSystemEnv/lib/python3.6', '/opt/conda/envs/JupyterSystemEnv/lib/python3.6/lib-dynload',\n",
    "      '/home/tione/.local/lib/python3.6/site-packages', '/opt/conda/envs/JupyterSystemEnv/lib/python3.6/site-packages']\n",
    "for i in ko:\n",
    "    sys.path.append(i)\n",
    "\n",
    "#数据分析，特征工程等\n",
    "import pandas as pd\n",
    "import numpy as np\n",
    "from tqdm import tqdm\n",
    "import matplotlib.pyplot as plt\n",
    "#模型选择，辅助\n",
    "from sklearn.model_selection import GridSearchCV\n",
    "from sklearn.metrics import mean_absolute_error,mean_squared_error\n",
    "from sklearn.model_selection import train_test_split\n",
    "\n",
    "#建模\n",
    "from sklearn.linear_model import LinearRegression\n",
    "from sklearn.linear_model import Lasso\n",
    "from sklearn.linear_model import Ridge\n",
    "from sklearn.linear_model import ElasticNet\n",
    "from sklearn.linear_model import SGDRegressor\n",
    "from sklearn.ensemble import RandomForestRegressor \n",
    "from sklearn.tree import DecisionTreeRegressor\n",
    "\n",
    "\n",
    "import lightgbm as lgb\n",
    "import xgboost as xgb\n",
    "import catboost as cb"
   ]
  },
  {
   "cell_type": "code",
   "execution_count": null,
   "metadata": {},
   "outputs": [],
   "source": []
  },
  {
   "cell_type": "code",
   "execution_count": 21,
   "metadata": {},
   "outputs": [],
   "source": [
    "train_data = pd.read_csv('eda_files/train_data_eda_0820.csv')\n",
    "test_data = pd.read_csv('eda_files/test_data_eda_0820.csv')"
   ]
  },
  {
   "cell_type": "code",
   "execution_count": null,
   "metadata": {},
   "outputs": [],
   "source": []
  },
  {
   "cell_type": "code",
   "execution_count": 22,
   "metadata": {},
   "outputs": [],
   "source": [
    "pred_data = pd.read_csv('original_data/sss.csv')\n",
    "pred_out_temp = test_data['outtemp']"
   ]
  },
  {
   "cell_type": "raw",
   "metadata": {},
   "source": [
    "留出法，后四天作为测试集"
   ]
  },
  {
   "cell_type": "raw",
   "metadata": {},
   "source": [
    "奶奶的，自己构建假的训练集和测试集，训练集再划分train和valid"
   ]
  },
  {
   "cell_type": "code",
   "execution_count": 23,
   "metadata": {},
   "outputs": [],
   "source": [
    "train_ = train_data[0:18832]\n",
    "train_y_ = train_['gaptemp']\n",
    "del train_['gaptemp']\n",
    "train_x_ = train_.values\n",
    "\n",
    "test_ = train_data[18832:len(train_data)-1]\n",
    "test_y_ = test_['gaptemp']\n",
    "del test_['gaptemp']\n",
    "test_x_ = test_.values\n",
    "\n",
    "train_x_spl_ = train_x_[0:15620]\n",
    "train_y_spl_ = train_y_[0:15620]\n",
    "test_x_spl_ = train_x_[15620:len(train_x_)]\n",
    "test_y_spl_ = train_y_[15620:len(train_x_)]\n",
    "\n",
    "\n",
    "\n",
    "train_y = train_data['gaptemp']\n",
    "del train_data['gaptemp']\n",
    "train_x = train_data.values\n",
    "test_x = test_data.values"
   ]
  },
  {
   "cell_type": "raw",
   "metadata": {},
   "source": [
    "数据集名称：\n",
    "训练集：train_x_,train_y_\n",
    "测试集：test_x_,test_y_\n",
    "4:1留出法 train_x_spl,train_y_spl,test_x_spl,test_y_spl"
   ]
  },
  {
   "cell_type": "code",
   "execution_count": null,
   "metadata": {},
   "outputs": [],
   "source": []
  },
  {
   "cell_type": "code",
   "execution_count": null,
   "metadata": {},
   "outputs": [],
   "source": []
  },
  {
   "cell_type": "code",
   "execution_count": null,
   "metadata": {},
   "outputs": [],
   "source": []
  },
  {
   "cell_type": "code",
   "execution_count": null,
   "metadata": {},
   "outputs": [],
   "source": []
  },
  {
   "cell_type": "code",
   "execution_count": null,
   "metadata": {},
   "outputs": [],
   "source": []
  },
  {
   "cell_type": "code",
   "execution_count": null,
   "metadata": {},
   "outputs": [],
   "source": []
  },
  {
   "cell_type": "code",
   "execution_count": null,
   "metadata": {},
   "outputs": [],
   "source": []
  },
  {
   "cell_type": "code",
   "execution_count": null,
   "metadata": {},
   "outputs": [],
   "source": []
  },
  {
   "cell_type": "markdown",
   "metadata": {},
   "source": [
    "模型处"
   ]
  },
  {
   "cell_type": "raw",
   "metadata": {},
   "source": [
    "线性回归"
   ]
  },
  {
   "cell_type": "raw",
   "metadata": {},
   "source": [
    "单lr模型，使用留出法进行训练和验证，不需要调参，valid_x_spl 是2.0694778741077837e+18,\n",
    "该模型存在大问题，当预测没有训练过的数据时，某些误差很大，当预测训练过的数据时则没有这种问题。\n",
    "目前没有什么好的办法处理过拟合，所以，lr模型暂时放弃"
   ]
  },
  {
   "cell_type": "code",
   "execution_count": 20,
   "metadata": {},
   "outputs": [],
   "source": [
    "model_lr = LinearRegression(normalize = True,copy_X = True, n_jobs = 4)"
   ]
  },
  {
   "cell_type": "code",
   "execution_count": null,
   "metadata": {},
   "outputs": [],
   "source": []
  },
  {
   "cell_type": "code",
   "execution_count": null,
   "metadata": {},
   "outputs": [],
   "source": []
  },
  {
   "cell_type": "code",
   "execution_count": null,
   "metadata": {},
   "outputs": [],
   "source": []
  },
  {
   "cell_type": "code",
   "execution_count": null,
   "metadata": {},
   "outputs": [],
   "source": []
  },
  {
   "cell_type": "code",
   "execution_count": null,
   "metadata": {},
   "outputs": [],
   "source": []
  },
  {
   "cell_type": "code",
   "execution_count": null,
   "metadata": {},
   "outputs": [],
   "source": []
  },
  {
   "cell_type": "code",
   "execution_count": null,
   "metadata": {},
   "outputs": [],
   "source": []
  },
  {
   "cell_type": "code",
   "execution_count": null,
   "metadata": {},
   "outputs": [],
   "source": []
  },
  {
   "cell_type": "raw",
   "metadata": {},
   "source": [
    "LASSO"
   ]
  },
  {
   "cell_type": "code",
   "execution_count": 9,
   "metadata": {},
   "outputs": [],
   "source": [
    "model_lasso = Lasso(normalize=True, precompute=True, warm_start=True)"
   ]
  },
  {
   "cell_type": "code",
   "execution_count": 15,
   "metadata": {},
   "outputs": [],
   "source": [
    "param_lasso ={'alpha':[x/100 for x in range(1,11)]}"
   ]
  },
  {
   "cell_type": "code",
   "execution_count": 16,
   "metadata": {},
   "outputs": [],
   "source": [
    "grid_lasso = GridSearchCV(model_lasso, param_lasso, cv=5, scoring=\"neg_mean_squared_error\")"
   ]
  },
  {
   "cell_type": "code",
   "execution_count": 17,
   "metadata": {},
   "outputs": [
    {
     "data": {
      "text/plain": [
       "GridSearchCV(cv=5,\n",
       "             estimator=Lasso(normalize=True, precompute=True, warm_start=True),\n",
       "             param_grid={'alpha': [0.01, 0.02, 0.03, 0.04, 0.05, 0.06, 0.07,\n",
       "                                   0.08, 0.09, 0.1]},\n",
       "             scoring='neg_mean_squared_error')"
      ]
     },
     "execution_count": 17,
     "metadata": {},
     "output_type": "execute_result"
    }
   ],
   "source": [
    "grid_lasso.fit(train_x,train_y)"
   ]
  },
  {
   "cell_type": "code",
   "execution_count": 18,
   "metadata": {},
   "outputs": [
    {
     "data": {
      "text/plain": [
       "{'alpha': 0.01}"
      ]
     },
     "execution_count": 18,
     "metadata": {},
     "output_type": "execute_result"
    }
   ],
   "source": [
    "grid_lasso.best_params_"
   ]
  },
  {
   "cell_type": "code",
   "execution_count": 19,
   "metadata": {},
   "outputs": [
    {
     "data": {
      "text/plain": [
       "-0.6412575609777279"
      ]
     },
     "execution_count": 19,
     "metadata": {},
     "output_type": "execute_result"
    }
   ],
   "source": [
    "grid_lasso.best_score_"
   ]
  },
  {
   "cell_type": "code",
   "execution_count": 121,
   "metadata": {},
   "outputs": [],
   "source": [
    "model_lasso = Lasso(alpha = 0.0001,normalize=True, precompute=True, warm_start=True)"
   ]
  },
  {
   "cell_type": "code",
   "execution_count": 122,
   "metadata": {},
   "outputs": [
    {
     "data": {
      "text/plain": [
       "Lasso(alpha=0.0001, normalize=True, precompute=True, warm_start=True)"
      ]
     },
     "execution_count": 122,
     "metadata": {},
     "output_type": "execute_result"
    }
   ],
   "source": [
    "model_lasso.fit(train_x,train_y)"
   ]
  },
  {
   "cell_type": "code",
   "execution_count": 123,
   "metadata": {},
   "outputs": [
    {
     "data": {
      "text/plain": [
       "-1.1167697619198977"
      ]
     },
     "execution_count": 123,
     "metadata": {},
     "output_type": "execute_result"
    }
   ],
   "source": [
    "model_lasso.intercept_"
   ]
  },
  {
   "cell_type": "code",
   "execution_count": 127,
   "metadata": {},
   "outputs": [],
   "source": [
    "tt = [x for x in model_lasso.coef_]"
   ]
  },
  {
   "cell_type": "code",
   "execution_count": 128,
   "metadata": {},
   "outputs": [],
   "source": [
    "col_name = [x for x in train_data.columns]"
   ]
  },
  {
   "cell_type": "code",
   "execution_count": 129,
   "metadata": {},
   "outputs": [],
   "source": [
    "for i in range(0,len(col_name)):\n",
    "    if tt[i] == 0:\n",
    "        pass\n",
    "    else:\n",
    "        col_import.append(col_name[i])"
   ]
  },
  {
   "cell_type": "code",
   "execution_count": 143,
   "metadata": {},
   "outputs": [],
   "source": [
    "train_data_s = train_data[col_import]\n",
    "test_data_s = test_data[col_import]"
   ]
  },
  {
   "cell_type": "code",
   "execution_count": 146,
   "metadata": {},
   "outputs": [],
   "source": [
    "train_x = train_data_s.values\n",
    "test_x = test_data_s.values"
   ]
  },
  {
   "cell_type": "code",
   "execution_count": 151,
   "metadata": {},
   "outputs": [],
   "source": [
    "train_x_ =  train_data_s[0:18832].values\n",
    "test_x_ =  train_data_s[18832:len(train_data_s)-1].values"
   ]
  },
  {
   "cell_type": "code",
   "execution_count": 149,
   "metadata": {},
   "outputs": [
    {
     "data": {
      "text/plain": [
       "5975"
      ]
     },
     "execution_count": 149,
     "metadata": {},
     "output_type": "execute_result"
    }
   ],
   "source": [
    "len(test_x_)"
   ]
  },
  {
   "cell_type": "code",
   "execution_count": 150,
   "metadata": {},
   "outputs": [
    {
     "data": {
      "text/plain": [
       "5974"
      ]
     },
     "execution_count": 150,
     "metadata": {},
     "output_type": "execute_result"
    }
   ],
   "source": [
    "len(test_y_)"
   ]
  },
  {
   "cell_type": "code",
   "execution_count": null,
   "metadata": {},
   "outputs": [],
   "source": []
  },
  {
   "cell_type": "raw",
   "metadata": {},
   "source": [
    "ridge"
   ]
  },
  {
   "cell_type": "code",
   "execution_count": 141,
   "metadata": {},
   "outputs": [],
   "source": [
    "model_ridge = Ridge(normalize=True,)"
   ]
  },
  {
   "cell_type": "code",
   "execution_count": 158,
   "metadata": {},
   "outputs": [
    {
     "name": "stderr",
     "output_type": "stream",
     "text": [
      "100%|██████████| 11/11 [00:00<00:00, 138.64it/s]\n"
     ]
    }
   ],
   "source": [
    "result = []\n",
    "for i in tqdm(range(90,101,1)):\n",
    "    model_ridge = Ridge(alpha = i/100,normalize=True,random_state=2020)\n",
    "    model_ridge.fit(train_x_,train_y_)\n",
    "    tt = model_ridge.predict(test_x_)\n",
    "    result_temp = mean_squared_error(test_y_,tt)\n",
    "    result.append(result_temp)"
   ]
  },
  {
   "cell_type": "code",
   "execution_count": null,
   "metadata": {},
   "outputs": [],
   "source": []
  },
  {
   "cell_type": "code",
   "execution_count": null,
   "metadata": {},
   "outputs": [],
   "source": []
  },
  {
   "cell_type": "code",
   "execution_count": null,
   "metadata": {},
   "outputs": [],
   "source": []
  },
  {
   "cell_type": "code",
   "execution_count": null,
   "metadata": {},
   "outputs": [],
   "source": []
  },
  {
   "cell_type": "code",
   "execution_count": null,
   "metadata": {},
   "outputs": [],
   "source": []
  },
  {
   "cell_type": "code",
   "execution_count": null,
   "metadata": {},
   "outputs": [],
   "source": []
  },
  {
   "cell_type": "code",
   "execution_count": null,
   "metadata": {},
   "outputs": [],
   "source": []
  },
  {
   "cell_type": "code",
   "execution_count": 161,
   "metadata": {},
   "outputs": [
    {
     "ename": "ValueError",
     "evalue": "matmul: Input operand 1 has a mismatch in its core dimension 0, with gufunc signature (n?,k),(k,m?)->(n?,m?) (size 28 is different from 1286)",
     "output_type": "error",
     "traceback": [
      "\u001b[0;31m---------------------------------------------------------------------------\u001b[0m",
      "\u001b[0;31mValueError\u001b[0m                                Traceback (most recent call last)",
      "\u001b[0;32m<ipython-input-161-364c79fee73a>\u001b[0m in \u001b[0;36m<module>\u001b[0;34m\u001b[0m\n\u001b[1;32m      1\u001b[0m \u001b[0mmodel_ridge\u001b[0m \u001b[0;34m=\u001b[0m \u001b[0mRidge\u001b[0m\u001b[0;34m(\u001b[0m\u001b[0malpha\u001b[0m \u001b[0;34m=\u001b[0m \u001b[0;36m0.97\u001b[0m\u001b[0;34m,\u001b[0m\u001b[0mnormalize\u001b[0m\u001b[0;34m=\u001b[0m\u001b[0;32mTrue\u001b[0m\u001b[0;34m,\u001b[0m\u001b[0mrandom_state\u001b[0m\u001b[0;34m=\u001b[0m\u001b[0;36m2020\u001b[0m\u001b[0;34m)\u001b[0m\u001b[0;34m\u001b[0m\u001b[0m\n\u001b[1;32m      2\u001b[0m \u001b[0mmodel_ridge\u001b[0m\u001b[0;34m.\u001b[0m\u001b[0mfit\u001b[0m\u001b[0;34m(\u001b[0m\u001b[0mtrain_x_\u001b[0m\u001b[0;34m,\u001b[0m\u001b[0mtrain_y_\u001b[0m\u001b[0;34m)\u001b[0m\u001b[0;34m\u001b[0m\u001b[0m\n\u001b[0;32m----> 3\u001b[0;31m \u001b[0mtt\u001b[0m \u001b[0;34m=\u001b[0m \u001b[0mmodel_ridge\u001b[0m\u001b[0;34m.\u001b[0m\u001b[0mpredict\u001b[0m\u001b[0;34m(\u001b[0m\u001b[0mtest_\u001b[0m\u001b[0;34m)\u001b[0m\u001b[0;34m\u001b[0m\u001b[0m\n\u001b[0m\u001b[1;32m      4\u001b[0m \u001b[0mresult_temp\u001b[0m \u001b[0;34m=\u001b[0m \u001b[0mmean_squared_error\u001b[0m\u001b[0;34m(\u001b[0m\u001b[0mtest_y_\u001b[0m\u001b[0;34m,\u001b[0m\u001b[0mtt\u001b[0m\u001b[0;34m)\u001b[0m\u001b[0;34m\u001b[0m\u001b[0m\n",
      "\u001b[0;32m/opt/conda/envs/python3/lib/python3.6/site-packages/sklearn/linear_model/_base.py\u001b[0m in \u001b[0;36mpredict\u001b[0;34m(self, X)\u001b[0m\n\u001b[1;32m    234\u001b[0m             \u001b[0mReturns\u001b[0m \u001b[0mpredicted\u001b[0m \u001b[0mvalues\u001b[0m\u001b[0;34m.\u001b[0m\u001b[0;34m\u001b[0m\u001b[0m\n\u001b[1;32m    235\u001b[0m         \"\"\"\n\u001b[0;32m--> 236\u001b[0;31m         \u001b[0;32mreturn\u001b[0m \u001b[0mself\u001b[0m\u001b[0;34m.\u001b[0m\u001b[0m_decision_function\u001b[0m\u001b[0;34m(\u001b[0m\u001b[0mX\u001b[0m\u001b[0;34m)\u001b[0m\u001b[0;34m\u001b[0m\u001b[0m\n\u001b[0m\u001b[1;32m    237\u001b[0m \u001b[0;34m\u001b[0m\u001b[0m\n\u001b[1;32m    238\u001b[0m     \u001b[0m_preprocess_data\u001b[0m \u001b[0;34m=\u001b[0m \u001b[0mstaticmethod\u001b[0m\u001b[0;34m(\u001b[0m\u001b[0m_preprocess_data\u001b[0m\u001b[0;34m)\u001b[0m\u001b[0;34m\u001b[0m\u001b[0m\n",
      "\u001b[0;32m/opt/conda/envs/python3/lib/python3.6/site-packages/sklearn/linear_model/_base.py\u001b[0m in \u001b[0;36m_decision_function\u001b[0;34m(self, X)\u001b[0m\n\u001b[1;32m    218\u001b[0m         \u001b[0mX\u001b[0m \u001b[0;34m=\u001b[0m \u001b[0mcheck_array\u001b[0m\u001b[0;34m(\u001b[0m\u001b[0mX\u001b[0m\u001b[0;34m,\u001b[0m \u001b[0maccept_sparse\u001b[0m\u001b[0;34m=\u001b[0m\u001b[0;34m[\u001b[0m\u001b[0;34m'csr'\u001b[0m\u001b[0;34m,\u001b[0m \u001b[0;34m'csc'\u001b[0m\u001b[0;34m,\u001b[0m \u001b[0;34m'coo'\u001b[0m\u001b[0;34m]\u001b[0m\u001b[0;34m)\u001b[0m\u001b[0;34m\u001b[0m\u001b[0m\n\u001b[1;32m    219\u001b[0m         return safe_sparse_dot(X, self.coef_.T,\n\u001b[0;32m--> 220\u001b[0;31m                                dense_output=True) + self.intercept_\n\u001b[0m\u001b[1;32m    221\u001b[0m \u001b[0;34m\u001b[0m\u001b[0m\n\u001b[1;32m    222\u001b[0m     \u001b[0;32mdef\u001b[0m \u001b[0mpredict\u001b[0m\u001b[0;34m(\u001b[0m\u001b[0mself\u001b[0m\u001b[0;34m,\u001b[0m \u001b[0mX\u001b[0m\u001b[0;34m)\u001b[0m\u001b[0;34m:\u001b[0m\u001b[0;34m\u001b[0m\u001b[0m\n",
      "\u001b[0;32m/opt/conda/envs/python3/lib/python3.6/site-packages/sklearn/utils/validation.py\u001b[0m in \u001b[0;36minner_f\u001b[0;34m(*args, **kwargs)\u001b[0m\n\u001b[1;32m     71\u001b[0m                           FutureWarning)\n\u001b[1;32m     72\u001b[0m         \u001b[0mkwargs\u001b[0m\u001b[0;34m.\u001b[0m\u001b[0mupdate\u001b[0m\u001b[0;34m(\u001b[0m\u001b[0;34m{\u001b[0m\u001b[0mk\u001b[0m\u001b[0;34m:\u001b[0m \u001b[0marg\u001b[0m \u001b[0;32mfor\u001b[0m \u001b[0mk\u001b[0m\u001b[0;34m,\u001b[0m \u001b[0marg\u001b[0m \u001b[0;32min\u001b[0m \u001b[0mzip\u001b[0m\u001b[0;34m(\u001b[0m\u001b[0msig\u001b[0m\u001b[0;34m.\u001b[0m\u001b[0mparameters\u001b[0m\u001b[0;34m,\u001b[0m \u001b[0margs\u001b[0m\u001b[0;34m)\u001b[0m\u001b[0;34m}\u001b[0m\u001b[0;34m)\u001b[0m\u001b[0;34m\u001b[0m\u001b[0m\n\u001b[0;32m---> 73\u001b[0;31m         \u001b[0;32mreturn\u001b[0m \u001b[0mf\u001b[0m\u001b[0;34m(\u001b[0m\u001b[0;34m**\u001b[0m\u001b[0mkwargs\u001b[0m\u001b[0;34m)\u001b[0m\u001b[0;34m\u001b[0m\u001b[0m\n\u001b[0m\u001b[1;32m     74\u001b[0m     \u001b[0;32mreturn\u001b[0m \u001b[0minner_f\u001b[0m\u001b[0;34m\u001b[0m\u001b[0m\n\u001b[1;32m     75\u001b[0m \u001b[0;34m\u001b[0m\u001b[0m\n",
      "\u001b[0;32m/opt/conda/envs/python3/lib/python3.6/site-packages/sklearn/utils/extmath.py\u001b[0m in \u001b[0;36msafe_sparse_dot\u001b[0;34m(a, b, dense_output)\u001b[0m\n\u001b[1;32m    151\u001b[0m             \u001b[0mret\u001b[0m \u001b[0;34m=\u001b[0m \u001b[0mnp\u001b[0m\u001b[0;34m.\u001b[0m\u001b[0mdot\u001b[0m\u001b[0;34m(\u001b[0m\u001b[0ma\u001b[0m\u001b[0;34m,\u001b[0m \u001b[0mb\u001b[0m\u001b[0;34m)\u001b[0m\u001b[0;34m\u001b[0m\u001b[0m\n\u001b[1;32m    152\u001b[0m     \u001b[0;32melse\u001b[0m\u001b[0;34m:\u001b[0m\u001b[0;34m\u001b[0m\u001b[0m\n\u001b[0;32m--> 153\u001b[0;31m         \u001b[0mret\u001b[0m \u001b[0;34m=\u001b[0m \u001b[0ma\u001b[0m \u001b[0;34m@\u001b[0m \u001b[0mb\u001b[0m\u001b[0;34m\u001b[0m\u001b[0m\n\u001b[0m\u001b[1;32m    154\u001b[0m \u001b[0;34m\u001b[0m\u001b[0m\n\u001b[1;32m    155\u001b[0m     if (sparse.issparse(a) and sparse.issparse(b)\n",
      "\u001b[0;31mValueError\u001b[0m: matmul: Input operand 1 has a mismatch in its core dimension 0, with gufunc signature (n?,k),(k,m?)->(n?,m?) (size 28 is different from 1286)"
     ]
    }
   ],
   "source": [
    "model_ridge = Ridge(alpha = 0.97,normalize=True,random_state=2020)\n",
    "model_ridge.fit(train_x_,train_y_)\n",
    "tt = model_ridge.predict(test_)\n",
    "result_temp = mean_squared_error(test_y_,tt)"
   ]
  },
  {
   "cell_type": "code",
   "execution_count": 25,
   "metadata": {},
   "outputs": [
    {
     "data": {
      "text/plain": [
       "0.048913993460339714"
      ]
     },
     "execution_count": 25,
     "metadata": {},
     "output_type": "execute_result"
    }
   ],
   "source": [
    "result_temp"
   ]
  },
  {
   "cell_type": "code",
   "execution_count": null,
   "metadata": {},
   "outputs": [],
   "source": []
  },
  {
   "cell_type": "code",
   "execution_count": null,
   "metadata": {},
   "outputs": [],
   "source": []
  },
  {
   "cell_type": "code",
   "execution_count": null,
   "metadata": {},
   "outputs": [],
   "source": []
  },
  {
   "cell_type": "code",
   "execution_count": null,
   "metadata": {},
   "outputs": [],
   "source": []
  },
  {
   "cell_type": "code",
   "execution_count": null,
   "metadata": {},
   "outputs": [],
   "source": []
  },
  {
   "cell_type": "code",
   "execution_count": null,
   "metadata": {},
   "outputs": [],
   "source": []
  },
  {
   "cell_type": "raw",
   "metadata": {},
   "source": [
    "模型输出处"
   ]
  },
  {
   "cell_type": "code",
   "execution_count": 162,
   "metadata": {},
   "outputs": [],
   "source": [
    "model_ridge_best = Ridge(alpha = 0.97,normalize=True,random_state=2020)"
   ]
  },
  {
   "cell_type": "code",
   "execution_count": 163,
   "metadata": {},
   "outputs": [
    {
     "data": {
      "text/plain": [
       "Ridge(alpha=0.97, normalize=True, random_state=2020)"
      ]
     },
     "execution_count": 163,
     "metadata": {},
     "output_type": "execute_result"
    }
   ],
   "source": [
    "model_ridge_best.fit(train_x,train_y)"
   ]
  },
  {
   "cell_type": "code",
   "execution_count": 164,
   "metadata": {},
   "outputs": [],
   "source": [
    "res_model_ridge = model_ridge_best.predict(test_x)"
   ]
  },
  {
   "cell_type": "code",
   "execution_count": null,
   "metadata": {},
   "outputs": [],
   "source": []
  },
  {
   "cell_type": "code",
   "execution_count": null,
   "metadata": {},
   "outputs": [],
   "source": []
  },
  {
   "cell_type": "code",
   "execution_count": 167,
   "metadata": {},
   "outputs": [],
   "source": [
    "pred_data['temperature'] = pred_out_temp+ res_model_ridge"
   ]
  },
  {
   "cell_type": "code",
   "execution_count": 168,
   "metadata": {},
   "outputs": [],
   "source": [
    "pred_data.to_csv('upload_files/0811_ridge_eda_liuchu_lasso_select.csv',index = False)"
   ]
  },
  {
   "cell_type": "raw",
   "metadata": {},
   "source": [
    "0801_ridge_eda_eda在科大讯飞的评分为 0.15653"
   ]
  },
  {
   "cell_type": "code",
   "execution_count": null,
   "metadata": {},
   "outputs": [],
   "source": []
  },
  {
   "cell_type": "code",
   "execution_count": null,
   "metadata": {},
   "outputs": [],
   "source": []
  },
  {
   "cell_type": "code",
   "execution_count": null,
   "metadata": {},
   "outputs": [],
   "source": []
  },
  {
   "cell_type": "code",
   "execution_count": null,
   "metadata": {},
   "outputs": [],
   "source": []
  },
  {
   "cell_type": "code",
   "execution_count": null,
   "metadata": {},
   "outputs": [],
   "source": []
  },
  {
   "cell_type": "code",
   "execution_count": null,
   "metadata": {},
   "outputs": [],
   "source": []
  },
  {
   "cell_type": "code",
   "execution_count": null,
   "metadata": {},
   "outputs": [],
   "source": []
  },
  {
   "cell_type": "code",
   "execution_count": null,
   "metadata": {},
   "outputs": [],
   "source": []
  },
  {
   "cell_type": "code",
   "execution_count": null,
   "metadata": {},
   "outputs": [],
   "source": []
  },
  {
   "cell_type": "code",
   "execution_count": null,
   "metadata": {},
   "outputs": [],
   "source": []
  },
  {
   "cell_type": "code",
   "execution_count": null,
   "metadata": {},
   "outputs": [],
   "source": []
  },
  {
   "cell_type": "code",
   "execution_count": null,
   "metadata": {},
   "outputs": [],
   "source": []
  },
  {
   "cell_type": "code",
   "execution_count": null,
   "metadata": {},
   "outputs": [],
   "source": []
  },
  {
   "cell_type": "markdown",
   "metadata": {},
   "source": [
    "ElasticNet回归"
   ]
  },
  {
   "cell_type": "code",
   "execution_count": null,
   "metadata": {},
   "outputs": [],
   "source": []
  },
  {
   "cell_type": "code",
   "execution_count": null,
   "metadata": {},
   "outputs": [],
   "source": []
  },
  {
   "cell_type": "code",
   "execution_count": null,
   "metadata": {},
   "outputs": [],
   "source": []
  },
  {
   "cell_type": "raw",
   "metadata": {},
   "source": [
    "得分分别为：-0.07883376982685214 和 0.0691598503305217"
   ]
  },
  {
   "cell_type": "code",
   "execution_count": 163,
   "metadata": {},
   "outputs": [],
   "source": [
    "model_el = ElasticNet(normalize=True, warm_start=True)"
   ]
  },
  {
   "cell_type": "code",
   "execution_count": null,
   "metadata": {},
   "outputs": [],
   "source": []
  },
  {
   "cell_type": "code",
   "execution_count": null,
   "metadata": {},
   "outputs": [],
   "source": []
  },
  {
   "cell_type": "code",
   "execution_count": null,
   "metadata": {},
   "outputs": [],
   "source": []
  },
  {
   "cell_type": "code",
   "execution_count": 169,
   "metadata": {},
   "outputs": [],
   "source": [
    "param_el ={'alpha':[x/1000 for x in range(1,10,1)],'l1_ratio':[x/1000 for x in range(1,10,1)]}"
   ]
  },
  {
   "cell_type": "code",
   "execution_count": 174,
   "metadata": {},
   "outputs": [],
   "source": [
    "param_el = {'alpha':[0,0.001],'l1_ratio':[0,0.001]}"
   ]
  },
  {
   "cell_type": "code",
   "execution_count": 175,
   "metadata": {},
   "outputs": [],
   "source": [
    "grid_el = GridSearchCV(model_el, param_el, cv=5, scoring=\"neg_mean_squared_error\")"
   ]
  },
  {
   "cell_type": "code",
   "execution_count": null,
   "metadata": {},
   "outputs": [],
   "source": []
  },
  {
   "cell_type": "code",
   "execution_count": null,
   "metadata": {},
   "outputs": [],
   "source": []
  },
  {
   "cell_type": "code",
   "execution_count": null,
   "metadata": {},
   "outputs": [],
   "source": []
  },
  {
   "cell_type": "markdown",
   "metadata": {},
   "source": [
    "SGD线性回归"
   ]
  },
  {
   "cell_type": "raw",
   "metadata": {},
   "source": [
    "存在和lr一样的问题，暂时没有好的解决办法，先放弃。"
   ]
  },
  {
   "cell_type": "code",
   "execution_count": 183,
   "metadata": {},
   "outputs": [],
   "source": [
    "model_sgd = SGDRegressor(penalty = 'l2', max_iter = 10000, learning_rate ='adaptive', early_stopping=True, n_iter_no_change=100)"
   ]
  },
  {
   "cell_type": "code",
   "execution_count": 184,
   "metadata": {},
   "outputs": [],
   "source": [
    "params_sgd = {'alpha':[x/10 for x in range(1,11,1)]}"
   ]
  },
  {
   "cell_type": "code",
   "execution_count": 185,
   "metadata": {},
   "outputs": [],
   "source": [
    "grid_sgd = GridSearchCV(model_sgd, params_sgd,cv=5, scoring=\"neg_mean_absolute_error\")"
   ]
  },
  {
   "cell_type": "code",
   "execution_count": 186,
   "metadata": {},
   "outputs": [
    {
     "data": {
      "text/plain": [
       "GridSearchCV(cv=5, error_score=nan,\n",
       "             estimator=SGDRegressor(alpha=0.0001, average=False,\n",
       "                                    early_stopping=True, epsilon=0.1, eta0=0.01,\n",
       "                                    fit_intercept=True, l1_ratio=0.15,\n",
       "                                    learning_rate='adaptive',\n",
       "                                    loss='squared_loss', max_iter=10000,\n",
       "                                    n_iter_no_change=100, penalty='l2',\n",
       "                                    power_t=0.25, random_state=None,\n",
       "                                    shuffle=True, tol=0.001,\n",
       "                                    validation_fraction=0.1, verbose=0,\n",
       "                                    warm_start=False),\n",
       "             iid='deprecated', n_jobs=None,\n",
       "             param_grid={'alpha': [0.1, 0.2, 0.3, 0.4, 0.5, 0.6, 0.7, 0.8, 0.9,\n",
       "                                   1.0]},\n",
       "             pre_dispatch='2*n_jobs', refit=True, return_train_score=False,\n",
       "             scoring='neg_mean_absolute_error', verbose=0)"
      ]
     },
     "execution_count": 186,
     "metadata": {},
     "output_type": "execute_result"
    }
   ],
   "source": [
    "grid_sgd.fit(train_x,train_y)"
   ]
  },
  {
   "cell_type": "code",
   "execution_count": 189,
   "metadata": {},
   "outputs": [
    {
     "data": {
      "text/plain": [
       "{'alpha': 0.6}"
      ]
     },
     "execution_count": 189,
     "metadata": {},
     "output_type": "execute_result"
    }
   ],
   "source": [
    "grid_sgd.best_params_"
   ]
  },
  {
   "cell_type": "code",
   "execution_count": 190,
   "metadata": {},
   "outputs": [
    {
     "data": {
      "text/plain": [
       "-720091651935334.8"
      ]
     },
     "execution_count": 190,
     "metadata": {},
     "output_type": "execute_result"
    }
   ],
   "source": [
    "grid_sgd.best_score_"
   ]
  },
  {
   "cell_type": "code",
   "execution_count": null,
   "metadata": {},
   "outputs": [],
   "source": []
  },
  {
   "cell_type": "code",
   "execution_count": null,
   "metadata": {},
   "outputs": [],
   "source": []
  },
  {
   "cell_type": "code",
   "execution_count": null,
   "metadata": {},
   "outputs": [],
   "source": []
  },
  {
   "cell_type": "code",
   "execution_count": null,
   "metadata": {},
   "outputs": [],
   "source": []
  },
  {
   "cell_type": "raw",
   "metadata": {},
   "source": [
    "单决策树\n",
    "单决策树调参OK后再科大讯飞的得分是0.18681"
   ]
  },
  {
   "cell_type": "raw",
   "metadata": {},
   "source": [
    "这个cell用来记录已经确定好的参数\n",
    "model_tree = DecisionTreeRegressor(criterion='mse',max_depth = 8,random_state = 2020,min_samples_split = 5,min_samples_leaf = 12)\n",
    "max_leaf_nodes 不设置"
   ]
  },
  {
   "cell_type": "code",
   "execution_count": null,
   "metadata": {},
   "outputs": [],
   "source": []
  },
  {
   "cell_type": "code",
   "execution_count": null,
   "metadata": {},
   "outputs": [],
   "source": []
  },
  {
   "cell_type": "code",
   "execution_count": null,
   "metadata": {},
   "outputs": [],
   "source": []
  },
  {
   "cell_type": "raw",
   "metadata": {},
   "source": [
    "决策树输出处"
   ]
  },
  {
   "cell_type": "code",
   "execution_count": 257,
   "metadata": {},
   "outputs": [],
   "source": [
    "model_tree = DecisionTreeRegressor(criterion='mse',random_state = 2020,max_depth = 8,min_samples_split = 5,min_samples_leaf = 12)"
   ]
  },
  {
   "cell_type": "code",
   "execution_count": 252,
   "metadata": {},
   "outputs": [],
   "source": [
    "tt = model_tree.predict(test_x)"
   ]
  },
  {
   "cell_type": "code",
   "execution_count": 255,
   "metadata": {},
   "outputs": [],
   "source": [
    "pred_data['temperature'] = pred_out_temp+ tt"
   ]
  },
  {
   "cell_type": "code",
   "execution_count": 256,
   "metadata": {},
   "outputs": [],
   "source": [
    "pred_data.to_csv('upload_files/0805_tree_adjust.csv',index = False)"
   ]
  },
  {
   "cell_type": "code",
   "execution_count": null,
   "metadata": {},
   "outputs": [],
   "source": []
  },
  {
   "cell_type": "code",
   "execution_count": null,
   "metadata": {},
   "outputs": [],
   "source": []
  },
  {
   "cell_type": "code",
   "execution_count": null,
   "metadata": {},
   "outputs": [],
   "source": []
  },
  {
   "cell_type": "code",
   "execution_count": null,
   "metadata": {},
   "outputs": [],
   "source": []
  },
  {
   "cell_type": "code",
   "execution_count": null,
   "metadata": {},
   "outputs": [],
   "source": []
  },
  {
   "cell_type": "code",
   "execution_count": null,
   "metadata": {},
   "outputs": [],
   "source": []
  },
  {
   "cell_type": "code",
   "execution_count": null,
   "metadata": {},
   "outputs": [],
   "source": []
  },
  {
   "cell_type": "code",
   "execution_count": null,
   "metadata": {},
   "outputs": [],
   "source": []
  },
  {
   "cell_type": "code",
   "execution_count": null,
   "metadata": {},
   "outputs": [],
   "source": []
  },
  {
   "cell_type": "code",
   "execution_count": null,
   "metadata": {},
   "outputs": [],
   "source": []
  },
  {
   "cell_type": "code",
   "execution_count": null,
   "metadata": {},
   "outputs": [],
   "source": []
  },
  {
   "cell_type": "code",
   "execution_count": null,
   "metadata": {},
   "outputs": [],
   "source": []
  },
  {
   "cell_type": "code",
   "execution_count": null,
   "metadata": {},
   "outputs": [],
   "source": []
  },
  {
   "cell_type": "code",
   "execution_count": null,
   "metadata": {},
   "outputs": [],
   "source": []
  },
  {
   "cell_type": "code",
   "execution_count": null,
   "metadata": {},
   "outputs": [],
   "source": []
  },
  {
   "cell_type": "raw",
   "metadata": {},
   "source": [
    "试一下随机森林"
   ]
  },
  {
   "cell_type": "markdown",
   "metadata": {},
   "source": [
    "RF调参不太OK啊，先放下吧"
   ]
  },
  {
   "cell_type": "raw",
   "metadata": {},
   "source": [
    "这个cell记录已经确定好的参数\n",
    "无调参时的得分：0.0791804544212107\n",
    "n_estimators = 79 得分0.07860041247319711\n",
    "max_depth = 25得分0.07685549748351818\n",
    "min_samples_split = 118, min_samples_leaf = 10 得分：0.0764397777564278\n",
    "max_features = 0.9, max_samples = 0.8 得分 0.07419196137643615\n",
    "model_rf = RandomForestRegressor(criterion = 'mse', n_jobs = 4,oob_score = True,random_state = 2020,n_estimators = 79,max_depth = 25,\n",
    "                                min_samples_split = 118, min_samples_leaf = 10,max_features = 0.9, max_samples = 0.8)\n"
   ]
  },
  {
   "cell_type": "code",
   "execution_count": null,
   "metadata": {},
   "outputs": [],
   "source": [
    "临时的得分 120 + 10 ：0.07648327909458953"
   ]
  },
  {
   "cell_type": "code",
   "execution_count": 61,
   "metadata": {},
   "outputs": [
    {
     "name": "stderr",
     "output_type": "stream",
     "text": [
      "  0%|          | 0/4 [00:00<?, ?it/s]\n",
      "  0%|          | 0/4 [00:00<?, ?it/s]\u001b[A\n",
      " 25%|██▌       | 1/4 [00:54<02:42, 54.18s/it]\u001b[A\n",
      " 50%|█████     | 2/4 [01:48<01:48, 54.32s/it]\u001b[A\n",
      " 75%|███████▌  | 3/4 [02:44<00:54, 54.64s/it]\u001b[A\n",
      "100%|██████████| 4/4 [03:38<00:00, 54.57s/it]\u001b[A\n",
      " 25%|██▌       | 1/4 [03:38<10:54, 218.26s/it]\n",
      "  0%|          | 0/4 [00:00<?, ?it/s]\u001b[A\n",
      " 25%|██▌       | 1/4 [00:54<02:42, 54.14s/it]\u001b[A\n",
      " 50%|█████     | 2/4 [01:49<01:48, 54.48s/it]\u001b[A\n",
      " 75%|███████▌  | 3/4 [02:44<00:54, 54.58s/it]\u001b[A\n",
      "100%|██████████| 4/4 [03:39<00:00, 54.81s/it]\u001b[A\n",
      " 50%|█████     | 2/4 [07:17<07:17, 218.56s/it]\n",
      "  0%|          | 0/4 [00:00<?, ?it/s]\u001b[A\n",
      " 25%|██▌       | 1/4 [00:55<02:46, 55.45s/it]\u001b[A\n",
      " 50%|█████     | 2/4 [01:51<01:51, 55.67s/it]\u001b[A\n",
      " 75%|███████▌  | 3/4 [02:47<00:55, 55.78s/it]\u001b[A\n",
      "100%|██████████| 4/4 [03:42<00:00, 55.71s/it]\u001b[A\n",
      " 75%|███████▌  | 3/4 [11:00<03:39, 219.84s/it]\n",
      "  0%|          | 0/4 [00:00<?, ?it/s]\u001b[A\n",
      " 25%|██▌       | 1/4 [00:55<02:46, 55.62s/it]\u001b[A\n",
      " 50%|█████     | 2/4 [01:52<01:52, 56.00s/it]\u001b[A\n",
      " 75%|███████▌  | 3/4 [02:48<00:56, 56.14s/it]\u001b[A\n",
      "100%|██████████| 4/4 [03:45<00:00, 56.26s/it]\u001b[A\n",
      "100%|██████████| 4/4 [14:45<00:00, 221.35s/it]\n"
     ]
    }
   ],
   "source": [
    "result = []\n",
    "for feature in tqdm([88,89,91,92]):\n",
    "    for sample in tqdm([78,79,81,82]):\n",
    "        model_rf = RandomForestRegressor(criterion = 'mse', n_jobs = 4,oob_score = True,random_state = 2020,n_estimators = 79,max_depth = 25,\n",
    "                                        min_samples_split = 118, min_samples_leaf = 10, max_features = feature/100, max_samples = sample/100)\n",
    "        model_rf.fit(train_x_,train_y_)\n",
    "        tt = model_rf.predict(test_x_)\n",
    "        value = mean_squared_error(test_y_,tt)\n",
    "        result.append(value)"
   ]
  },
  {
   "cell_type": "code",
   "execution_count": 62,
   "metadata": {},
   "outputs": [
    {
     "data": {
      "text/plain": [
       "[0.0755167404869184,\n",
       " 0.07528657473721105,\n",
       " 0.0754624982619005,\n",
       " 0.07731764445756768,\n",
       " 0.0758617974473573,\n",
       " 0.07577065068655245,\n",
       " 0.07586904998709615,\n",
       " 0.07635600247720274,\n",
       " 0.07525975338713008,\n",
       " 0.0752329107456404,\n",
       " 0.0762805361361285,\n",
       " 0.07641090924476729,\n",
       " 0.07483980858335183,\n",
       " 0.0752471391199147,\n",
       " 0.0776437818476826,\n",
       " 0.07634756168581164]"
      ]
     },
     "execution_count": 62,
     "metadata": {},
     "output_type": "execute_result"
    }
   ],
   "source": [
    "result"
   ]
  },
  {
   "cell_type": "code",
   "execution_count": 70,
   "metadata": {},
   "outputs": [
    {
     "data": {
      "text/plain": [
       "False"
      ]
     },
     "execution_count": 70,
     "metadata": {},
     "output_type": "execute_result"
    }
   ],
   "source": [
    "np.min(result) < 0.07419196137643615"
   ]
  },
  {
   "cell_type": "code",
   "execution_count": 59,
   "metadata": {},
   "outputs": [
    {
     "data": {
      "text/plain": [
       "True"
      ]
     },
     "execution_count": 59,
     "metadata": {},
     "output_type": "execute_result"
    }
   ],
   "source": [
    "临时最佳： 0.9 + 0.8： 0.07419196137643615"
   ]
  },
  {
   "cell_type": "code",
   "execution_count": 69,
   "metadata": {},
   "outputs": [
    {
     "data": {
      "text/plain": [
       "0.07419196137643615"
      ]
     },
     "execution_count": 69,
     "metadata": {},
     "output_type": "execute_result"
    }
   ],
   "source": [
    "model_rf = RandomForestRegressor(criterion = 'mse', n_jobs = 4,oob_score = True,random_state = 2020,n_estimators = 79,max_depth = 25,\n",
    "                                        min_samples_split = 118, min_samples_leaf = 10, max_features = 0.9, max_samples = 0.8)\n",
    "model_rf.fit(train_x_,train_y_)\n",
    "tt = model_rf.predict(test_x_)\n",
    "mean_squared_error(test_y_,tt)"
   ]
  },
  {
   "cell_type": "code",
   "execution_count": null,
   "metadata": {},
   "outputs": [],
   "source": []
  },
  {
   "cell_type": "code",
   "execution_count": null,
   "metadata": {},
   "outputs": [],
   "source": []
  },
  {
   "cell_type": "code",
   "execution_count": null,
   "metadata": {},
   "outputs": [],
   "source": []
  },
  {
   "cell_type": "code",
   "execution_count": 79,
   "metadata": {},
   "outputs": [],
   "source": [
    "model_rf_best = RandomForestRegressor(criterion = 'mse', n_jobs = 4,oob_score = True,random_state = 2020,n_estimators = 100,max_depth = 25,\n",
    "                                        min_samples_split = 118, min_samples_leaf = 10, max_features = 0.9, max_samples = 0.8)"
   ]
  },
  {
   "cell_type": "code",
   "execution_count": 80,
   "metadata": {},
   "outputs": [
    {
     "data": {
      "text/plain": [
       "RandomForestRegressor(max_depth=25, max_features=0.9, max_samples=0.8,\n",
       "                      min_samples_leaf=10, min_samples_split=118, n_jobs=4,\n",
       "                      oob_score=True, random_state=2020)"
      ]
     },
     "execution_count": 80,
     "metadata": {},
     "output_type": "execute_result"
    }
   ],
   "source": [
    "model_rf_best.fit(train_x,train_y)"
   ]
  },
  {
   "cell_type": "code",
   "execution_count": 81,
   "metadata": {},
   "outputs": [],
   "source": [
    "tt = model_rf_best.predict(test_x)"
   ]
  },
  {
   "cell_type": "code",
   "execution_count": 82,
   "metadata": {},
   "outputs": [],
   "source": [
    "pred_data['temperature'] = pred_out_temp+ tt"
   ]
  },
  {
   "cell_type": "code",
   "execution_count": 83,
   "metadata": {},
   "outputs": [
    {
     "data": {
      "text/plain": [
       "-2.982069787814455"
      ]
     },
     "execution_count": 83,
     "metadata": {},
     "output_type": "execute_result"
    }
   ],
   "source": [
    "np.min(tt)"
   ]
  },
  {
   "cell_type": "code",
   "execution_count": 84,
   "metadata": {},
   "outputs": [
    {
     "data": {
      "text/plain": [
       "1.1478166791163564"
      ]
     },
     "execution_count": 84,
     "metadata": {},
     "output_type": "execute_result"
    }
   ],
   "source": [
    "np.max(tt)"
   ]
  },
  {
   "cell_type": "code",
   "execution_count": 77,
   "metadata": {},
   "outputs": [],
   "source": [
    "pred_data.to_csv('upload_files/0807_rf_adjust.csv',index = False)"
   ]
  },
  {
   "cell_type": "code",
   "execution_count": 85,
   "metadata": {},
   "outputs": [
    {
     "data": {
      "text/plain": [
       "{'bootstrap': True,\n",
       " 'ccp_alpha': 0.0,\n",
       " 'criterion': 'mse',\n",
       " 'max_depth': 25,\n",
       " 'max_features': 0.9,\n",
       " 'max_leaf_nodes': None,\n",
       " 'max_samples': 0.8,\n",
       " 'min_impurity_decrease': 0.0,\n",
       " 'min_impurity_split': None,\n",
       " 'min_samples_leaf': 10,\n",
       " 'min_samples_split': 118,\n",
       " 'min_weight_fraction_leaf': 0.0,\n",
       " 'n_estimators': 100,\n",
       " 'n_jobs': 4,\n",
       " 'oob_score': True,\n",
       " 'random_state': 2020,\n",
       " 'verbose': 0,\n",
       " 'warm_start': False}"
      ]
     },
     "execution_count": 85,
     "metadata": {},
     "output_type": "execute_result"
    }
   ],
   "source": [
    "model_rf_best.get_params()"
   ]
  },
  {
   "cell_type": "code",
   "execution_count": null,
   "metadata": {},
   "outputs": [],
   "source": []
  },
  {
   "cell_type": "code",
   "execution_count": null,
   "metadata": {},
   "outputs": [],
   "source": []
  },
  {
   "cell_type": "code",
   "execution_count": null,
   "metadata": {},
   "outputs": [],
   "source": []
  },
  {
   "cell_type": "code",
   "execution_count": null,
   "metadata": {},
   "outputs": [],
   "source": []
  },
  {
   "cell_type": "code",
   "execution_count": null,
   "metadata": {},
   "outputs": [],
   "source": []
  },
  {
   "cell_type": "code",
   "execution_count": null,
   "metadata": {},
   "outputs": [],
   "source": []
  },
  {
   "cell_type": "code",
   "execution_count": null,
   "metadata": {},
   "outputs": [],
   "source": []
  },
  {
   "cell_type": "code",
   "execution_count": null,
   "metadata": {},
   "outputs": [],
   "source": []
  },
  {
   "cell_type": "code",
   "execution_count": null,
   "metadata": {},
   "outputs": [],
   "source": []
  },
  {
   "cell_type": "code",
   "execution_count": null,
   "metadata": {},
   "outputs": [],
   "source": []
  },
  {
   "cell_type": "code",
   "execution_count": null,
   "metadata": {},
   "outputs": [],
   "source": []
  },
  {
   "cell_type": "code",
   "execution_count": null,
   "metadata": {},
   "outputs": [],
   "source": []
  },
  {
   "cell_type": "code",
   "execution_count": 65,
   "metadata": {},
   "outputs": [
    {
     "name": "stderr",
     "output_type": "stream",
     "text": [
      "/opt/conda/envs/python3/lib/python3.6/site-packages/sklearn/ensemble/_forest.py:832: UserWarning: Some inputs do not have OOB scores. This probably means too few trees were used to compute any reliable oob estimates.\n",
      "  warn(\"Some inputs do not have OOB scores. \"\n"
     ]
    },
    {
     "data": {
      "text/plain": [
       "RandomForestRegressor(max_depth=15, max_features=0.93, min_samples_split=13,\n",
       "                      n_estimators=9, n_jobs=4, oob_score=True,\n",
       "                      random_state=2020)"
      ]
     },
     "execution_count": 65,
     "metadata": {},
     "output_type": "execute_result"
    }
   ],
   "source": [
    "model_rf_best.fit(train_x,train_y)"
   ]
  },
  {
   "cell_type": "code",
   "execution_count": 66,
   "metadata": {},
   "outputs": [],
   "source": [
    "tt = model_rf_best.predict(test_x)\n"
   ]
  },
  {
   "cell_type": "code",
   "execution_count": 70,
   "metadata": {},
   "outputs": [],
   "source": [
    "pred_data['temperature'] = pred_out_temp+ tt"
   ]
  },
  {
   "cell_type": "code",
   "execution_count": 71,
   "metadata": {},
   "outputs": [],
   "source": [
    "pred_data.to_csv('upload_files/0806_rf_adjust.csv',index = False)"
   ]
  },
  {
   "cell_type": "code",
   "execution_count": null,
   "metadata": {},
   "outputs": [],
   "source": []
  },
  {
   "cell_type": "code",
   "execution_count": null,
   "metadata": {},
   "outputs": [],
   "source": []
  },
  {
   "cell_type": "code",
   "execution_count": null,
   "metadata": {},
   "outputs": [],
   "source": []
  },
  {
   "cell_type": "code",
   "execution_count": null,
   "metadata": {},
   "outputs": [],
   "source": []
  },
  {
   "cell_type": "code",
   "execution_count": null,
   "metadata": {},
   "outputs": [],
   "source": []
  },
  {
   "cell_type": "raw",
   "metadata": {},
   "source": [
    "lgb最后一轮           data:2020-08-12"
   ]
  },
  {
   "cell_type": "code",
   "execution_count": 5,
   "metadata": {},
   "outputs": [],
   "source": [
    "#train_data_lgb = lgb.Dataset(train_x_, train_y_, silent=True)\n",
    "train_data_lgb = lgb.Dataset(train_x_, train_y_, silent=True)\n",
    "test_data_lgb = lgb.Dataset(test_x_, test_y_, silent=True)"
   ]
  },
  {
   "cell_type": "code",
   "execution_count": null,
   "metadata": {},
   "outputs": [],
   "source": []
  },
  {
   "cell_type": "code",
   "execution_count": 53,
   "metadata": {},
   "outputs": [],
   "source": [
    "model_lgb = lgb.LGBMRegressor(n_jobs = 4,objective='regression',num_leaves=50,\n",
    "                              learning_rate=0.02, n_estimators=100, max_depth=7,\n",
    "                              metric='rmse', bagging_fraction = 0.8,feature_fraction = 0.8)"
   ]
  },
  {
   "cell_type": "code",
   "execution_count": 96,
   "metadata": {},
   "outputs": [
    {
     "name": "stderr",
     "output_type": "stream",
     "text": [
      "100%|██████████| 5/5 [00:34<00:00,  6.98s/it]\n"
     ]
    }
   ],
   "source": [
    "train_loss = []\n",
    "test_loss = []\n",
    "for i in tqdm([0.4,0.5,0.6,0.8,0.9]):\n",
    "    model_lgb = lgb.LGBMRegressor(n_jobs = 4,objective='regression',num_leaves=5,\n",
    "                              learning_rate=0.02, n_estimators=100, max_depth=5,\n",
    "                              metric='rmse', feature_fraction = 0.6)\n",
    "    model_lgb.fit(train_x_,train_y_)\n",
    "    tt = model_lgb.predict(train_x_)\n",
    "    train_loss.append(mean_squared_error(train_y_,tt))\n",
    "    tt = model_lgb.predict(test_x_)\n",
    "    test_loss.append(mean_squared_error(test_y_,tt))"
   ]
  },
  {
   "cell_type": "code",
   "execution_count": 97,
   "metadata": {},
   "outputs": [
    {
     "data": {
      "text/plain": [
       "[0.05875854475028237,\n",
       " 0.058312899936891954,\n",
       " 0.05823495236680633,\n",
       " 0.05880070455621831,\n",
       " 0.05934914180786681]"
      ]
     },
     "execution_count": 97,
     "metadata": {},
     "output_type": "execute_result"
    }
   ],
   "source": [
    "test_loss"
   ]
  },
  {
   "cell_type": "code",
   "execution_count": 115,
   "metadata": {},
   "outputs": [],
   "source": [
    "model_lgb = lgb.LGBMRegressor(n_jobs = 4,objective='regression',num_leaves=5,\n",
    "                              learning_rate=0.02, n_estimators=135, max_depth=5,\n",
    "                              metric='rmse', feature_fraction = 0.6)"
   ]
  },
  {
   "cell_type": "code",
   "execution_count": 118,
   "metadata": {},
   "outputs": [
    {
     "data": {
      "text/plain": [
       "LGBMRegressor(feature_fraction=0.6, learning_rate=0.02, max_depth=5,\n",
       "              metric='rmse', n_estimators=135, n_jobs=4, num_leaves=5,\n",
       "              objective='regression')"
      ]
     },
     "execution_count": 118,
     "metadata": {},
     "output_type": "execute_result"
    }
   ],
   "source": [
    "model_lgb.fit(train_x_,train_y_)"
   ]
  },
  {
   "cell_type": "code",
   "execution_count": 119,
   "metadata": {},
   "outputs": [],
   "source": [
    "tt = model_lgb.predict(test_x_)"
   ]
  },
  {
   "cell_type": "code",
   "execution_count": 120,
   "metadata": {},
   "outputs": [
    {
     "data": {
      "text/plain": [
       "0.05501739179807562"
      ]
     },
     "execution_count": 120,
     "metadata": {},
     "output_type": "execute_result"
    }
   ],
   "source": [
    "mean_squared_error(test_y_,tt)"
   ]
  },
  {
   "cell_type": "code",
   "execution_count": null,
   "metadata": {},
   "outputs": [],
   "source": []
  },
  {
   "cell_type": "code",
   "execution_count": 121,
   "metadata": {},
   "outputs": [],
   "source": [
    "model_lgb = lgb.LGBMRegressor(n_jobs = 4,objective='regression',num_leaves=5,\n",
    "                              learning_rate=0.02, n_estimators=10000, max_depth=5,\n",
    "                              metric='rmse', feature_fraction = 0.6)"
   ]
  },
  {
   "cell_type": "code",
   "execution_count": 122,
   "metadata": {},
   "outputs": [
    {
     "data": {
      "text/plain": [
       "LGBMRegressor(feature_fraction=0.6, learning_rate=0.02, max_depth=5,\n",
       "              metric='rmse', n_estimators=10000, n_jobs=4, num_leaves=5,\n",
       "              objective='regression')"
      ]
     },
     "execution_count": 122,
     "metadata": {},
     "output_type": "execute_result"
    }
   ],
   "source": [
    "model_lgb.fit(train_x_,train_y_)"
   ]
  },
  {
   "cell_type": "code",
   "execution_count": 123,
   "metadata": {},
   "outputs": [],
   "source": [
    "tt = model_lgb.predict(test_x_)"
   ]
  },
  {
   "cell_type": "code",
   "execution_count": 124,
   "metadata": {},
   "outputs": [
    {
     "data": {
      "text/plain": [
       "0.059036990304471036"
      ]
     },
     "execution_count": 124,
     "metadata": {},
     "output_type": "execute_result"
    }
   ],
   "source": [
    "mean_squared_error(test_y_,tt)"
   ]
  },
  {
   "cell_type": "code",
   "execution_count": null,
   "metadata": {},
   "outputs": [],
   "source": []
  },
  {
   "cell_type": "code",
   "execution_count": null,
   "metadata": {},
   "outputs": [],
   "source": []
  },
  {
   "cell_type": "code",
   "execution_count": null,
   "metadata": {},
   "outputs": [],
   "source": []
  },
  {
   "cell_type": "code",
   "execution_count": null,
   "metadata": {},
   "outputs": [],
   "source": []
  },
  {
   "cell_type": "code",
   "execution_count": null,
   "metadata": {},
   "outputs": [],
   "source": []
  },
  {
   "cell_type": "code",
   "execution_count": null,
   "metadata": {},
   "outputs": [],
   "source": []
  },
  {
   "cell_type": "code",
   "execution_count": null,
   "metadata": {},
   "outputs": [],
   "source": []
  },
  {
   "cell_type": "code",
   "execution_count": null,
   "metadata": {},
   "outputs": [],
   "source": []
  },
  {
   "cell_type": "markdown",
   "metadata": {},
   "source": [
    "lightgbm开始\n"
   ]
  },
  {
   "cell_type": "code",
   "execution_count": 10,
   "metadata": {},
   "outputs": [],
   "source": [
    "params = {\n",
    "    'boosting_type': 'gbdt', \n",
    "    'objective': 'regression', \n",
    " \n",
    "    'learning_rate': 0.1, \n",
    "    'num_leaves': 50, \n",
    "    'max_depth': 6,\n",
    " \n",
    "    'subsample': 0.8, \n",
    "    'colsample_bytree': 0.8, \n",
    "    'n_jobs':12\n",
    "}\n",
    "\n"
   ]
  },
  {
   "cell_type": "code",
   "execution_count": 11,
   "metadata": {},
   "outputs": [],
   "source": [
    "train_data_lgb = lgb.Dataset(train_x, train_y, silent=True)"
   ]
  },
  {
   "cell_type": "code",
   "execution_count": 12,
   "metadata": {},
   "outputs": [
    {
     "name": "stdout",
     "output_type": "stream",
     "text": [
      "[10]\tcv_agg's l2: 0.102237 + 0.00176824\n",
      "[20]\tcv_agg's l2: 0.0423857 + 0.000660977\n",
      "[30]\tcv_agg's l2: 0.0307512 + 0.000682574\n",
      "[40]\tcv_agg's l2: 0.0262331 + 0.000788484\n",
      "[50]\tcv_agg's l2: 0.0241924 + 0.000644872\n",
      "[60]\tcv_agg's l2: 0.0230091 + 0.000636154\n",
      "[70]\tcv_agg's l2: 0.0220968 + 0.000642395\n",
      "[80]\tcv_agg's l2: 0.0212163 + 0.00058788\n",
      "[90]\tcv_agg's l2: 0.0204543 + 0.000577021\n",
      "[100]\tcv_agg's l2: 0.0196907 + 0.000563257\n",
      "[110]\tcv_agg's l2: 0.0191004 + 0.000630642\n",
      "[120]\tcv_agg's l2: 0.0185557 + 0.000616728\n",
      "[130]\tcv_agg's l2: 0.0180354 + 0.000641311\n",
      "[140]\tcv_agg's l2: 0.0175856 + 0.000589975\n"
     ]
    },
    {
     "ename": "KeyboardInterrupt",
     "evalue": "",
     "output_type": "error",
     "traceback": [
      "\u001b[0;31m---------------------------------------------------------------------------\u001b[0m",
      "\u001b[0;31mKeyboardInterrupt\u001b[0m                         Traceback (most recent call last)",
      "\u001b[0;32m<ipython-input-12-d8b8d698480b>\u001b[0m in \u001b[0;36m<module>\u001b[0;34m\u001b[0m\n\u001b[1;32m      1\u001b[0m cv_results = lgb.cv(\n\u001b[1;32m      2\u001b[0m     \u001b[0mparams\u001b[0m\u001b[0;34m,\u001b[0m \u001b[0mtrain_data_lgb\u001b[0m\u001b[0;34m,\u001b[0m \u001b[0mnum_boost_round\u001b[0m\u001b[0;34m=\u001b[0m\u001b[0;36m10000\u001b[0m\u001b[0;34m,\u001b[0m \u001b[0mnfold\u001b[0m\u001b[0;34m=\u001b[0m\u001b[0;36m5\u001b[0m\u001b[0;34m,\u001b[0m \u001b[0mstratified\u001b[0m\u001b[0;34m=\u001b[0m\u001b[0;32mFalse\u001b[0m\u001b[0;34m,\u001b[0m \u001b[0mshuffle\u001b[0m\u001b[0;34m=\u001b[0m\u001b[0;32mTrue\u001b[0m\u001b[0;34m,\u001b[0m \u001b[0mmetrics\u001b[0m\u001b[0;34m=\u001b[0m\u001b[0;34m'mse'\u001b[0m\u001b[0;34m,\u001b[0m\u001b[0;34m\u001b[0m\u001b[0m\n\u001b[0;32m----> 3\u001b[0;31m     early_stopping_rounds=100, verbose_eval= 10, seed=0)\n\u001b[0m\u001b[1;32m      4\u001b[0m \u001b[0;34m\u001b[0m\u001b[0m\n",
      "\u001b[0;32m/opt/conda/envs/JupyterSystemEnv/lib/python3.6/site-packages/lightgbm/engine.py\u001b[0m in \u001b[0;36mcv\u001b[0;34m(params, train_set, num_boost_round, folds, nfold, stratified, shuffle, metrics, fobj, feval, init_model, feature_name, categorical_feature, early_stopping_rounds, fpreproc, verbose_eval, show_stdv, seed, callbacks, eval_train_metric)\u001b[0m\n\u001b[1;32m    562\u001b[0m                                     \u001b[0mend_iteration\u001b[0m\u001b[0;34m=\u001b[0m\u001b[0mnum_boost_round\u001b[0m\u001b[0;34m,\u001b[0m\u001b[0;34m\u001b[0m\u001b[0m\n\u001b[1;32m    563\u001b[0m                                     evaluation_result_list=None))\n\u001b[0;32m--> 564\u001b[0;31m         \u001b[0mcvfolds\u001b[0m\u001b[0;34m.\u001b[0m\u001b[0mupdate\u001b[0m\u001b[0;34m(\u001b[0m\u001b[0mfobj\u001b[0m\u001b[0;34m=\u001b[0m\u001b[0mfobj\u001b[0m\u001b[0;34m)\u001b[0m\u001b[0;34m\u001b[0m\u001b[0m\n\u001b[0m\u001b[1;32m    565\u001b[0m         \u001b[0mres\u001b[0m \u001b[0;34m=\u001b[0m \u001b[0m_agg_cv_result\u001b[0m\u001b[0;34m(\u001b[0m\u001b[0mcvfolds\u001b[0m\u001b[0;34m.\u001b[0m\u001b[0meval_valid\u001b[0m\u001b[0;34m(\u001b[0m\u001b[0mfeval\u001b[0m\u001b[0;34m)\u001b[0m\u001b[0;34m,\u001b[0m \u001b[0meval_train_metric\u001b[0m\u001b[0;34m)\u001b[0m\u001b[0;34m\u001b[0m\u001b[0m\n\u001b[1;32m    566\u001b[0m         \u001b[0;32mfor\u001b[0m \u001b[0m_\u001b[0m\u001b[0;34m,\u001b[0m \u001b[0mkey\u001b[0m\u001b[0;34m,\u001b[0m \u001b[0mmean\u001b[0m\u001b[0;34m,\u001b[0m \u001b[0m_\u001b[0m\u001b[0;34m,\u001b[0m \u001b[0mstd\u001b[0m \u001b[0;32min\u001b[0m \u001b[0mres\u001b[0m\u001b[0;34m:\u001b[0m\u001b[0;34m\u001b[0m\u001b[0m\n",
      "\u001b[0;32m/opt/conda/envs/JupyterSystemEnv/lib/python3.6/site-packages/lightgbm/engine.py\u001b[0m in \u001b[0;36mhandler_function\u001b[0;34m(*args, **kwargs)\u001b[0m\n\u001b[1;32m    292\u001b[0m             \u001b[0mret\u001b[0m \u001b[0;34m=\u001b[0m \u001b[0;34m[\u001b[0m\u001b[0;34m]\u001b[0m\u001b[0;34m\u001b[0m\u001b[0m\n\u001b[1;32m    293\u001b[0m             \u001b[0;32mfor\u001b[0m \u001b[0mbooster\u001b[0m \u001b[0;32min\u001b[0m \u001b[0mself\u001b[0m\u001b[0;34m.\u001b[0m\u001b[0mboosters\u001b[0m\u001b[0;34m:\u001b[0m\u001b[0;34m\u001b[0m\u001b[0m\n\u001b[0;32m--> 294\u001b[0;31m                 \u001b[0mret\u001b[0m\u001b[0;34m.\u001b[0m\u001b[0mappend\u001b[0m\u001b[0;34m(\u001b[0m\u001b[0mgetattr\u001b[0m\u001b[0;34m(\u001b[0m\u001b[0mbooster\u001b[0m\u001b[0;34m,\u001b[0m \u001b[0mname\u001b[0m\u001b[0;34m)\u001b[0m\u001b[0;34m(\u001b[0m\u001b[0;34m*\u001b[0m\u001b[0margs\u001b[0m\u001b[0;34m,\u001b[0m \u001b[0;34m**\u001b[0m\u001b[0mkwargs\u001b[0m\u001b[0;34m)\u001b[0m\u001b[0;34m)\u001b[0m\u001b[0;34m\u001b[0m\u001b[0m\n\u001b[0m\u001b[1;32m    295\u001b[0m             \u001b[0;32mreturn\u001b[0m \u001b[0mret\u001b[0m\u001b[0;34m\u001b[0m\u001b[0m\n\u001b[1;32m    296\u001b[0m         \u001b[0;32mreturn\u001b[0m \u001b[0mhandler_function\u001b[0m\u001b[0;34m\u001b[0m\u001b[0m\n",
      "\u001b[0;32m/opt/conda/envs/JupyterSystemEnv/lib/python3.6/site-packages/lightgbm/basic.py\u001b[0m in \u001b[0;36mupdate\u001b[0;34m(self, train_set, fobj)\u001b[0m\n\u001b[1;32m   1974\u001b[0m             _safe_call(_LIB.LGBM_BoosterUpdateOneIter(\n\u001b[1;32m   1975\u001b[0m                 \u001b[0mself\u001b[0m\u001b[0;34m.\u001b[0m\u001b[0mhandle\u001b[0m\u001b[0;34m,\u001b[0m\u001b[0;34m\u001b[0m\u001b[0m\n\u001b[0;32m-> 1976\u001b[0;31m                 ctypes.byref(is_finished)))\n\u001b[0m\u001b[1;32m   1977\u001b[0m             \u001b[0mself\u001b[0m\u001b[0;34m.\u001b[0m\u001b[0m__is_predicted_cur_iter\u001b[0m \u001b[0;34m=\u001b[0m \u001b[0;34m[\u001b[0m\u001b[0;32mFalse\u001b[0m \u001b[0;32mfor\u001b[0m \u001b[0m_\u001b[0m \u001b[0;32min\u001b[0m \u001b[0mrange_\u001b[0m\u001b[0;34m(\u001b[0m\u001b[0mself\u001b[0m\u001b[0;34m.\u001b[0m\u001b[0m__num_dataset\u001b[0m\u001b[0;34m)\u001b[0m\u001b[0;34m]\u001b[0m\u001b[0;34m\u001b[0m\u001b[0m\n\u001b[1;32m   1978\u001b[0m             \u001b[0;32mreturn\u001b[0m \u001b[0mis_finished\u001b[0m\u001b[0;34m.\u001b[0m\u001b[0mvalue\u001b[0m \u001b[0;34m==\u001b[0m \u001b[0;36m1\u001b[0m\u001b[0;34m\u001b[0m\u001b[0m\n",
      "\u001b[0;31mKeyboardInterrupt\u001b[0m: "
     ]
    }
   ],
   "source": [
    "cv_results = lgb.cv(\n",
    "    params, train_data_lgb, num_boost_round=10000, nfold=5, stratified=False, shuffle=True, metrics='mse',\n",
    "    early_stopping_rounds=100, verbose_eval= 10, seed=0)\n",
    "\n"
   ]
  },
  {
   "cell_type": "code",
   "execution_count": 21,
   "metadata": {},
   "outputs": [
    {
     "data": {
      "text/plain": [
       "1000"
      ]
     },
     "execution_count": 21,
     "metadata": {},
     "output_type": "execute_result"
    }
   ],
   "source": [
    "len(cv_results['l2-mean'])"
   ]
  },
  {
   "cell_type": "code",
   "execution_count": 28,
   "metadata": {},
   "outputs": [],
   "source": [
    "model_lgb = lgb.LGBMRegressor(objective='regression',num_leaves=50,\n",
    "                              learning_rate=0.1, n_estimators=1000, max_depth=7,\n",
    "                              metric='rmse', bagging_fraction = 0.8,feature_fraction = 0.8)\n",
    "params_test1={\n",
    "    'num_leaves':range(45,60,5)\n",
    "}\n",
    "gsearch1 = GridSearchCV(estimator=model_lgb ,param_grid=params_test1, scoring='neg_mean_squared_error', cv=5, verbose=1, n_jobs=8)"
   ]
  },
  {
   "cell_type": "code",
   "execution_count": 29,
   "metadata": {},
   "outputs": [
    {
     "name": "stdout",
     "output_type": "stream",
     "text": [
      "Fitting 5 folds for each of 3 candidates, totalling 15 fits\n"
     ]
    },
    {
     "name": "stderr",
     "output_type": "stream",
     "text": [
      "[Parallel(n_jobs=8)]: Using backend LokyBackend with 8 concurrent workers.\n",
      "[Parallel(n_jobs=8)]: Done  15 out of  15 | elapsed:  6.2min finished\n"
     ]
    },
    {
     "data": {
      "text/plain": [
       "GridSearchCV(cv=5,\n",
       "             estimator=LGBMRegressor(bagging_fraction=0.8, feature_fraction=0.8,\n",
       "                                     max_depth=7, metric='rmse',\n",
       "                                     n_estimators=1000, num_leaves=50,\n",
       "                                     objective='regression'),\n",
       "             n_jobs=8, param_grid={'num_leaves': range(45, 60, 5)},\n",
       "             scoring='neg_mean_squared_error', verbose=1)"
      ]
     },
     "execution_count": 29,
     "metadata": {},
     "output_type": "execute_result"
    }
   ],
   "source": [
    "gsearch1.fit(train_x,train_y)"
   ]
  },
  {
   "cell_type": "code",
   "execution_count": 30,
   "metadata": {},
   "outputs": [
    {
     "data": {
      "text/plain": [
       "-0.10116648682068666"
      ]
     },
     "execution_count": 30,
     "metadata": {},
     "output_type": "execute_result"
    }
   ],
   "source": [
    "gsearch1.best_score_"
   ]
  },
  {
   "cell_type": "code",
   "execution_count": 31,
   "metadata": {},
   "outputs": [
    {
     "data": {
      "text/plain": [
       "{'num_leaves': 55}"
      ]
     },
     "execution_count": 31,
     "metadata": {},
     "output_type": "execute_result"
    }
   ],
   "source": [
    "gsearch1.best_params_"
   ]
  },
  {
   "cell_type": "code",
   "execution_count": 32,
   "metadata": {},
   "outputs": [],
   "source": [
    "model_lgb = lgb.LGBMRegressor(objective='regression',\n",
    "                              metric='mse',\n",
    "                              learning_rate=0.1,\n",
    "                              n_estimators=55,\n",
    "                              max_depth=7,\n",
    "                              num_leaves=47,\n",
    "                              bagging_fraction = 0.8,\n",
    "                              feature_fraction = 0.8)"
   ]
  },
  {
   "cell_type": "code",
   "execution_count": 59,
   "metadata": {},
   "outputs": [],
   "source": [
    "params_test3={\n",
    "    'min_child_samples': [18, 19, 20, 21, 22],\n",
    "    'min_child_weight':[0.001, 0.002]\n",
    "}\n"
   ]
  },
  {
   "cell_type": "code",
   "execution_count": 60,
   "metadata": {},
   "outputs": [],
   "source": [
    "gsearch1 = GridSearchCV(estimator=model_lgb ,param_grid=params_test3, scoring='neg_mean_squared_error', cv=5, verbose=1, n_jobs=4)"
   ]
  },
  {
   "cell_type": "code",
   "execution_count": 61,
   "metadata": {},
   "outputs": [
    {
     "name": "stdout",
     "output_type": "stream",
     "text": [
      "Fitting 5 folds for each of 10 candidates, totalling 50 fits\n"
     ]
    },
    {
     "name": "stderr",
     "output_type": "stream",
     "text": [
      "[Parallel(n_jobs=4)]: Using backend LokyBackend with 4 concurrent workers.\n",
      "[Parallel(n_jobs=4)]: Done  42 tasks      | elapsed:  2.9min\n",
      "[Parallel(n_jobs=4)]: Done  50 out of  50 | elapsed:  3.5min finished\n"
     ]
    },
    {
     "data": {
      "text/plain": [
       "GridSearchCV(cv=5,\n",
       "             estimator=LGBMRegressor(bagging_fraction=0.8, feature_fraction=0.8,\n",
       "                                     max_depth=7, metric='mse', n_estimators=50,\n",
       "                                     num_leaves=47, objective='regression'),\n",
       "             n_jobs=4,\n",
       "             param_grid={'min_child_samples': [18, 19, 20, 21, 22],\n",
       "                         'min_child_weight': [0.001, 0.002]},\n",
       "             scoring='neg_mean_squared_error', verbose=1)"
      ]
     },
     "execution_count": 61,
     "metadata": {},
     "output_type": "execute_result"
    }
   ],
   "source": [
    "gsearch1.fit(train_x,train_y)"
   ]
  },
  {
   "cell_type": "code",
   "execution_count": 64,
   "metadata": {},
   "outputs": [
    {
     "data": {
      "text/plain": [
       "-0.06407093939349463"
      ]
     },
     "execution_count": 64,
     "metadata": {},
     "output_type": "execute_result"
    }
   ],
   "source": [
    "gsearch1.best_score_"
   ]
  },
  {
   "cell_type": "code",
   "execution_count": 66,
   "metadata": {},
   "outputs": [
    {
     "data": {
      "text/plain": [
       "{'min_child_samples': 20, 'min_child_weight': 0.001}"
      ]
     },
     "execution_count": 66,
     "metadata": {},
     "output_type": "execute_result"
    }
   ],
   "source": [
    "gsearch1.best_params_"
   ]
  },
  {
   "cell_type": "code",
   "execution_count": 67,
   "metadata": {},
   "outputs": [],
   "source": [
    "model_lgb = lgb.LGBMRegressor(objective='regression',\n",
    "                              metric='mse',\n",
    "                              learning_rate=0.1,\n",
    "                              n_estimators=1000,\n",
    "                              num_leaves=55,\n",
    "                              bagging_fraction = 0.8,\n",
    "                              feature_fraction = 0.8)"
   ]
  },
  {
   "cell_type": "code",
   "execution_count": 38,
   "metadata": {},
   "outputs": [],
   "source": [
    "\n",
    "params_test4={\n",
    "    'feature_fraction': [0.5,0.55,0.6],\n",
    "    'bagging_fraction': [0.5,0.55,0.6],\n",
    "}"
   ]
  },
  {
   "cell_type": "code",
   "execution_count": 39,
   "metadata": {},
   "outputs": [],
   "source": [
    "gsearch1 = GridSearchCV(estimator=model_lgb ,param_grid=params_test4, scoring='neg_mean_squared_error', cv=5, verbose=1, n_jobs=8)"
   ]
  },
  {
   "cell_type": "code",
   "execution_count": 40,
   "metadata": {},
   "outputs": [
    {
     "name": "stdout",
     "output_type": "stream",
     "text": [
      "Fitting 5 folds for each of 9 candidates, totalling 45 fits\n"
     ]
    },
    {
     "name": "stderr",
     "output_type": "stream",
     "text": [
      "[Parallel(n_jobs=8)]: Using backend LokyBackend with 8 concurrent workers.\n",
      "[Parallel(n_jobs=8)]: Done  45 out of  45 | elapsed:  1.6min finished\n"
     ]
    },
    {
     "data": {
      "text/plain": [
       "GridSearchCV(cv=5,\n",
       "             estimator=LGBMRegressor(bagging_fraction=0.8, feature_fraction=0.8,\n",
       "                                     max_depth=7, metric='mse', n_estimators=55,\n",
       "                                     num_leaves=47, objective='regression'),\n",
       "             n_jobs=8,\n",
       "             param_grid={'bagging_fraction': [0.5, 0.55, 0.6],\n",
       "                         'feature_fraction': [0.5, 0.55, 0.6]},\n",
       "             scoring='neg_mean_squared_error', verbose=1)"
      ]
     },
     "execution_count": 40,
     "metadata": {},
     "output_type": "execute_result"
    }
   ],
   "source": [
    "gsearch1.fit(train_x,train_y)"
   ]
  },
  {
   "cell_type": "code",
   "execution_count": 41,
   "metadata": {},
   "outputs": [
    {
     "data": {
      "text/plain": [
       "-0.0871092140097952"
      ]
     },
     "execution_count": 41,
     "metadata": {},
     "output_type": "execute_result"
    }
   ],
   "source": [
    "gsearch1.best_score_ "
   ]
  },
  {
   "cell_type": "code",
   "execution_count": 42,
   "metadata": {},
   "outputs": [
    {
     "data": {
      "text/plain": [
       "{'bagging_fraction': 0.5, 'feature_fraction': 0.6}"
      ]
     },
     "execution_count": 42,
     "metadata": {},
     "output_type": "execute_result"
    }
   ],
   "source": [
    "gsearch1.best_params_"
   ]
  },
  {
   "cell_type": "code",
   "execution_count": 36,
   "metadata": {},
   "outputs": [
    {
     "data": {
      "text/plain": [
       "-0.0871092140097952"
      ]
     },
     "execution_count": 36,
     "metadata": {},
     "output_type": "execute_result"
    }
   ],
   "source": [
    "gsearch1.best_score_ "
   ]
  },
  {
   "cell_type": "code",
   "execution_count": 37,
   "metadata": {},
   "outputs": [
    {
     "data": {
      "text/plain": [
       "{'bagging_fraction': 0.5, 'feature_fraction': 0.6}"
      ]
     },
     "execution_count": 37,
     "metadata": {},
     "output_type": "execute_result"
    }
   ],
   "source": [
    "gsearch1.best_params_"
   ]
  },
  {
   "cell_type": "code",
   "execution_count": 44,
   "metadata": {},
   "outputs": [],
   "source": [
    "model_lgb = lgb.LGBMRegressor(objective='regression',\n",
    "                              metric='mse',\n",
    "                              learning_rate=0.1,\n",
    "                              n_estimators=1000,\n",
    "                              num_leaves=55,\n",
    "                              bagging_fraction = 0.50,\n",
    "                              feature_fraction = 0.60)"
   ]
  },
  {
   "cell_type": "code",
   "execution_count": 48,
   "metadata": {},
   "outputs": [],
   "source": [
    "params_test4={'lambda_l1': [x/10 for x in range(1,11,2)],\n",
    "              'lambda_l2': [x/10 for x in range(1,11,2)]\n",
    "}"
   ]
  },
  {
   "cell_type": "code",
   "execution_count": 49,
   "metadata": {},
   "outputs": [],
   "source": [
    "gsearch1 = GridSearchCV(estimator=model_lgb ,param_grid=params_test4, scoring='neg_mean_squared_error', cv=5, verbose=1, n_jobs=8)"
   ]
  },
  {
   "cell_type": "code",
   "execution_count": 50,
   "metadata": {},
   "outputs": [
    {
     "name": "stdout",
     "output_type": "stream",
     "text": [
      "Fitting 5 folds for each of 25 candidates, totalling 125 fits\n"
     ]
    },
    {
     "name": "stderr",
     "output_type": "stream",
     "text": [
      "[Parallel(n_jobs=8)]: Using backend LokyBackend with 8 concurrent workers.\n",
      "[Parallel(n_jobs=8)]: Done  34 tasks      | elapsed: 13.3min\n",
      "[Parallel(n_jobs=8)]: Done 125 out of 125 | elapsed: 40.8min finished\n"
     ]
    },
    {
     "data": {
      "text/plain": [
       "GridSearchCV(cv=5,\n",
       "             estimator=LGBMRegressor(bagging_fraction=0.5, feature_fraction=0.6,\n",
       "                                     metric='mse', n_estimators=1000,\n",
       "                                     num_leaves=55, objective='regression'),\n",
       "             n_jobs=8,\n",
       "             param_grid={'lambda_l1': [0.1, 0.3, 0.5, 0.7, 0.9],\n",
       "                         'lambda_l2': [0.1, 0.3, 0.5, 0.7, 0.9]},\n",
       "             scoring='neg_mean_squared_error', verbose=1)"
      ]
     },
     "execution_count": 50,
     "metadata": {},
     "output_type": "execute_result"
    }
   ],
   "source": [
    "gsearch1.fit(train_x,train_y)"
   ]
  },
  {
   "cell_type": "code",
   "execution_count": 51,
   "metadata": {},
   "outputs": [
    {
     "data": {
      "text/plain": [
       "{'lambda_l1': 0.3, 'lambda_l2': 0.1}"
      ]
     },
     "execution_count": 51,
     "metadata": {},
     "output_type": "execute_result"
    }
   ],
   "source": [
    "gsearch1.best_params_"
   ]
  },
  {
   "cell_type": "code",
   "execution_count": 52,
   "metadata": {},
   "outputs": [
    {
     "data": {
      "text/plain": [
       "-0.09750534503609934"
      ]
     },
     "execution_count": 52,
     "metadata": {},
     "output_type": "execute_result"
    }
   ],
   "source": [
    "gsearch1.best_score_"
   ]
  },
  {
   "cell_type": "code",
   "execution_count": 53,
   "metadata": {},
   "outputs": [
    {
     "data": {
      "text/plain": [
       "-0.09750534503609934"
      ]
     },
     "execution_count": 53,
     "metadata": {},
     "output_type": "execute_result"
    }
   ],
   "source": [
    "gsearch1.best_score_"
   ]
  },
  {
   "cell_type": "raw",
   "metadata": {},
   "source": [
    "model_lgb = lgb.LGBMRegressor(objective='regression',\n",
    "                              metric='mse',\n",
    "                              learning_rate=0.1,\n",
    "                              n_estimators=50,\n",
    "                              max_depth=7,\n",
    "                              num_leaves=47,\n",
    "                              min_child_samples = 20,\n",
    "                              min_child_weight = 0.001,\n",
    "                              bagging_fraction = 0.75,\n",
    "                              feature_fraction = 0.65,\n",
    "                              lambda_l1 = 0.5,\n",
    "                              lambda_l2 = 1.0\n",
    "                             )"
   ]
  },
  {
   "cell_type": "code",
   "execution_count": 24,
   "metadata": {},
   "outputs": [],
   "source": [
    "params = {                   \"objective\":'regression',\n",
    "                              \"metric\":'mse',\n",
    "                              \"learning_rate\":0.02,\n",
    "                             \n",
    "                              \"num_leaves\":55,\n",
    "\n",
    "                              \"bagging_fraction\" : 0.50,\n",
    "                              \"feature_fraction\" : 0.60,\n",
    "                              'n_jobs':12\n",
    "    \n",
    "}"
   ]
  },
  {
   "cell_type": "code",
   "execution_count": 25,
   "metadata": {},
   "outputs": [],
   "source": [
    "cv_results = lgb.cv(\n",
    "    params, train_data_lgb, num_boost_round=100000, nfold=5, stratified=False, shuffle=True, metrics='mse',\n",
    "    early_stopping_rounds=1000, seed=0)"
   ]
  },
  {
   "cell_type": "code",
   "execution_count": 26,
   "metadata": {},
   "outputs": [
    {
     "data": {
      "text/plain": [
       "22215"
      ]
     },
     "execution_count": 26,
     "metadata": {},
     "output_type": "execute_result"
    }
   ],
   "source": [
    "len(cv_results['l2-mean'])"
   ]
  },
  {
   "cell_type": "code",
   "execution_count": 27,
   "metadata": {},
   "outputs": [
    {
     "data": {
      "text/plain": [
       "0.009265570940654196"
      ]
     },
     "execution_count": 27,
     "metadata": {},
     "output_type": "execute_result"
    }
   ],
   "source": [
    "cv_results['l2-mean'][-1]"
   ]
  },
  {
   "cell_type": "code",
   "execution_count": 30,
   "metadata": {},
   "outputs": [],
   "source": [
    "model_lgb_002 = lgb.LGBMRegressor(objective='regression',\n",
    "                              metric='mse',\n",
    "                              learning_rate=0.02,\n",
    "                              n_estimators=22215,                       \n",
    "                              num_leaves=55,\n",
    "                              bagging_fraction = 0.50,\n",
    "                              feature_fraction = 0.60,\n",
    "                                  n_jobs = 12\n",
    "                             )"
   ]
  },
  {
   "cell_type": "code",
   "execution_count": 32,
   "metadata": {},
   "outputs": [
    {
     "data": {
      "text/plain": [
       "LGBMRegressor(bagging_fraction=0.5, feature_fraction=0.6, learning_rate=0.02,\n",
       "              metric='mse', n_estimators=22215, num_leaves=55,\n",
       "              objective='regression')"
      ]
     },
     "execution_count": 32,
     "metadata": {},
     "output_type": "execute_result"
    }
   ],
   "source": [
    "model_lgb_005.fit(train_x,train_y)"
   ]
  },
  {
   "cell_type": "code",
   "execution_count": 33,
   "metadata": {},
   "outputs": [],
   "source": [
    "tt = model_lgb_005.predict(test_x)"
   ]
  },
  {
   "cell_type": "code",
   "execution_count": null,
   "metadata": {},
   "outputs": [],
   "source": []
  },
  {
   "cell_type": "code",
   "execution_count": null,
   "metadata": {},
   "outputs": [],
   "source": []
  },
  {
   "cell_type": "code",
   "execution_count": null,
   "metadata": {},
   "outputs": [],
   "source": []
  },
  {
   "cell_type": "code",
   "execution_count": null,
   "metadata": {},
   "outputs": [],
   "source": []
  },
  {
   "cell_type": "code",
   "execution_count": null,
   "metadata": {},
   "outputs": [],
   "source": []
  },
  {
   "cell_type": "code",
   "execution_count": null,
   "metadata": {},
   "outputs": [],
   "source": []
  },
  {
   "cell_type": "code",
   "execution_count": null,
   "metadata": {},
   "outputs": [],
   "source": []
  },
  {
   "cell_type": "code",
   "execution_count": null,
   "metadata": {},
   "outputs": [],
   "source": []
  },
  {
   "cell_type": "code",
   "execution_count": null,
   "metadata": {},
   "outputs": [],
   "source": []
  },
  {
   "cell_type": "code",
   "execution_count": null,
   "metadata": {},
   "outputs": [],
   "source": []
  },
  {
   "cell_type": "code",
   "execution_count": null,
   "metadata": {},
   "outputs": [],
   "source": []
  },
  {
   "cell_type": "code",
   "execution_count": null,
   "metadata": {},
   "outputs": [],
   "source": []
  },
  {
   "cell_type": "code",
   "execution_count": null,
   "metadata": {},
   "outputs": [],
   "source": []
  },
  {
   "cell_type": "code",
   "execution_count": null,
   "metadata": {},
   "outputs": [],
   "source": []
  },
  {
   "cell_type": "code",
   "execution_count": null,
   "metadata": {},
   "outputs": [],
   "source": []
  },
  {
   "cell_type": "code",
   "execution_count": null,
   "metadata": {},
   "outputs": [],
   "source": []
  },
  {
   "cell_type": "code",
   "execution_count": null,
   "metadata": {},
   "outputs": [],
   "source": []
  },
  {
   "cell_type": "code",
   "execution_count": null,
   "metadata": {},
   "outputs": [],
   "source": [
    "mean_squared_error(test_y_,tt)"
   ]
  },
  {
   "cell_type": "code",
   "execution_count": 103,
   "metadata": {},
   "outputs": [
    {
     "data": {
      "text/plain": [
       "0.06666515147488015"
      ]
     },
     "execution_count": 103,
     "metadata": {},
     "output_type": "execute_result"
    }
   ],
   "source": [
    "mean_squared_error(test_y_,tt)"
   ]
  },
  {
   "cell_type": "code",
   "execution_count": 19,
   "metadata": {},
   "outputs": [],
   "source": [
    "model_lgb_005 = lgb.LGBMRegressor(objective='regression',\n",
    "                              metric='mse',\n",
    "                              learning_rate=0.02,\n",
    "                              n_estimators=6102,\n",
    "                              max_depth=7,\n",
    "                              num_leaves=47,\n",
    "                              min_child_samples = 20,\n",
    "                              min_child_weight = 0.001,\n",
    "                              bagging_fraction = 0.75,\n",
    "                              feature_fraction = 0.65,\n",
    "                              lambda_l1 = 0.5,\n",
    "                              lambda_l2 = 1.0\n",
    "                             )"
   ]
  },
  {
   "cell_type": "code",
   "execution_count": 20,
   "metadata": {},
   "outputs": [
    {
     "name": "stdout",
     "output_type": "stream",
     "text": [
      "[LightGBM] [Warning] lambda_l1 is set=0.5, reg_alpha=0.0 will be ignored. Current value: lambda_l1=0.5\n",
      "[LightGBM] [Warning] feature_fraction is set=0.65, colsample_bytree=1.0 will be ignored. Current value: feature_fraction=0.65\n",
      "[LightGBM] [Warning] lambda_l2 is set=1.0, reg_lambda=0.0 will be ignored. Current value: lambda_l2=1.0\n",
      "[LightGBM] [Warning] bagging_fraction is set=0.75, subsample=1.0 will be ignored. Current value: bagging_fraction=0.75\n"
     ]
    },
    {
     "data": {
      "text/plain": [
       "LGBMRegressor(bagging_fraction=0.75, feature_fraction=0.65, lambda_l1=0.5,\n",
       "              lambda_l2=1.0, learning_rate=0.02, max_depth=7, metric='mse',\n",
       "              n_estimators=6102, num_leaves=47, objective='regression')"
      ]
     },
     "execution_count": 20,
     "metadata": {},
     "output_type": "execute_result"
    }
   ],
   "source": [
    "model_lgb_005.fit(train_x,train_y)"
   ]
  },
  {
   "cell_type": "code",
   "execution_count": 21,
   "metadata": {},
   "outputs": [],
   "source": [
    "tt = model_lgb_005.predict(test_x)"
   ]
  },
  {
   "cell_type": "code",
   "execution_count": 22,
   "metadata": {},
   "outputs": [
    {
     "data": {
      "text/plain": [
       "-2.935431885465166"
      ]
     },
     "execution_count": 22,
     "metadata": {},
     "output_type": "execute_result"
    }
   ],
   "source": [
    "np.min(tt)"
   ]
  },
  {
   "cell_type": "code",
   "execution_count": 23,
   "metadata": {},
   "outputs": [
    {
     "data": {
      "text/plain": [
       "1.0698291119333414"
      ]
     },
     "execution_count": 23,
     "metadata": {},
     "output_type": "execute_result"
    }
   ],
   "source": [
    "np.max(tt)"
   ]
  },
  {
   "cell_type": "code",
   "execution_count": 24,
   "metadata": {},
   "outputs": [],
   "source": [
    "pred_data['temperature'] = pred_out_temp+ tt"
   ]
  },
  {
   "cell_type": "code",
   "execution_count": 25,
   "metadata": {},
   "outputs": [],
   "source": [
    "pred_data.to_csv('upload_files/0808_lgb_adjust_002.csv',index = False)"
   ]
  },
  {
   "cell_type": "code",
   "execution_count": null,
   "metadata": {},
   "outputs": [],
   "source": []
  },
  {
   "cell_type": "code",
   "execution_count": 6,
   "metadata": {},
   "outputs": [],
   "source": [
    "train_data_lgb = lgb.Dataset(train_x, train_y, silent=True)"
   ]
  },
  {
   "cell_type": "code",
   "execution_count": 15,
   "metadata": {},
   "outputs": [],
   "source": [
    "params = {                   \"objective\":'regression',\n",
    "                              \"metric\":'mse',\n",
    "                              \"learning_rate\":0.02,\n",
    "                             # n_estimators=50,\n",
    "                              \"max_depth\":7,\n",
    "                              \"num_leaves\":47,\n",
    "                              \"min_child_samples\" : 20,\n",
    "                              \"min_child_weight\" : 0.001,\n",
    "                              \"bagging_fraction\" : 0.75,\n",
    "                              \"feature_fraction\" : 0.65,\n",
    "                              \"lambda_l1\" : 0.5,\n",
    "                              \"lambda_l2\" : 1.0,\n",
    "                              'n_jobs':12\n",
    "    \n",
    "}"
   ]
  },
  {
   "cell_type": "raw",
   "metadata": {},
   "source": [
    "model_lgb_005 = lgb.LGBMRegressor(objective='regression',\n",
    "                              metric='mse',\n",
    "                              learning_rate=0.02,\n",
    "                              n_estimators=6102,\n",
    "                              max_depth=7,\n",
    "                              num_leaves=47,\n",
    "                              min_child_samples = 20,\n",
    "                              min_child_weight = 0.001,\n",
    "                              bagging_fraction = 0.75,\n",
    "                              feature_fraction = 0.65,\n",
    "                              lambda_l1 = 0.5,\n",
    "                              lambda_l2 = 1.0\n",
    "                             )"
   ]
  },
  {
   "cell_type": "code",
   "execution_count": 16,
   "metadata": {},
   "outputs": [
    {
     "name": "stdout",
     "output_type": "stream",
     "text": [
      "[50]\tcv_agg's l2: 0.228018 + 0.00511239\n",
      "[100]\tcv_agg's l2: 0.109756 + 0.00225015\n"
     ]
    },
    {
     "ename": "KeyboardInterrupt",
     "evalue": "",
     "output_type": "error",
     "traceback": [
      "\u001b[0;31m---------------------------------------------------------------------------\u001b[0m",
      "\u001b[0;31mKeyboardInterrupt\u001b[0m                         Traceback (most recent call last)",
      "\u001b[0;32m<ipython-input-16-66facbc2a4e0>\u001b[0m in \u001b[0;36m<module>\u001b[0;34m\u001b[0m\n\u001b[1;32m      1\u001b[0m cv_results = lgb.cv(\n\u001b[1;32m      2\u001b[0m     \u001b[0mparams\u001b[0m\u001b[0;34m,\u001b[0m \u001b[0mtrain_data_lgb\u001b[0m\u001b[0;34m,\u001b[0m \u001b[0mnum_boost_round\u001b[0m\u001b[0;34m=\u001b[0m\u001b[0;36m100000\u001b[0m\u001b[0;34m,\u001b[0m \u001b[0mnfold\u001b[0m\u001b[0;34m=\u001b[0m\u001b[0;36m5\u001b[0m\u001b[0;34m,\u001b[0m \u001b[0mstratified\u001b[0m\u001b[0;34m=\u001b[0m\u001b[0;32mFalse\u001b[0m\u001b[0;34m,\u001b[0m \u001b[0mshuffle\u001b[0m\u001b[0;34m=\u001b[0m\u001b[0;32mTrue\u001b[0m\u001b[0;34m,\u001b[0m \u001b[0mmetrics\u001b[0m\u001b[0;34m=\u001b[0m\u001b[0;34m'mse'\u001b[0m\u001b[0;34m,\u001b[0m\u001b[0mverbose_eval\u001b[0m \u001b[0;34m=\u001b[0m \u001b[0;36m50\u001b[0m\u001b[0;34m,\u001b[0m\u001b[0;34m\u001b[0m\u001b[0m\n\u001b[0;32m----> 3\u001b[0;31m     early_stopping_rounds=3000,  seed=0)\n\u001b[0m",
      "\u001b[0;32m/opt/conda/envs/JupyterSystemEnv/lib/python3.6/site-packages/lightgbm/engine.py\u001b[0m in \u001b[0;36mcv\u001b[0;34m(params, train_set, num_boost_round, folds, nfold, stratified, shuffle, metrics, fobj, feval, init_model, feature_name, categorical_feature, early_stopping_rounds, fpreproc, verbose_eval, show_stdv, seed, callbacks, eval_train_metric)\u001b[0m\n\u001b[1;32m    562\u001b[0m                                     \u001b[0mend_iteration\u001b[0m\u001b[0;34m=\u001b[0m\u001b[0mnum_boost_round\u001b[0m\u001b[0;34m,\u001b[0m\u001b[0;34m\u001b[0m\u001b[0m\n\u001b[1;32m    563\u001b[0m                                     evaluation_result_list=None))\n\u001b[0;32m--> 564\u001b[0;31m         \u001b[0mcvfolds\u001b[0m\u001b[0;34m.\u001b[0m\u001b[0mupdate\u001b[0m\u001b[0;34m(\u001b[0m\u001b[0mfobj\u001b[0m\u001b[0;34m=\u001b[0m\u001b[0mfobj\u001b[0m\u001b[0;34m)\u001b[0m\u001b[0;34m\u001b[0m\u001b[0m\n\u001b[0m\u001b[1;32m    565\u001b[0m         \u001b[0mres\u001b[0m \u001b[0;34m=\u001b[0m \u001b[0m_agg_cv_result\u001b[0m\u001b[0;34m(\u001b[0m\u001b[0mcvfolds\u001b[0m\u001b[0;34m.\u001b[0m\u001b[0meval_valid\u001b[0m\u001b[0;34m(\u001b[0m\u001b[0mfeval\u001b[0m\u001b[0;34m)\u001b[0m\u001b[0;34m,\u001b[0m \u001b[0meval_train_metric\u001b[0m\u001b[0;34m)\u001b[0m\u001b[0;34m\u001b[0m\u001b[0m\n\u001b[1;32m    566\u001b[0m         \u001b[0;32mfor\u001b[0m \u001b[0m_\u001b[0m\u001b[0;34m,\u001b[0m \u001b[0mkey\u001b[0m\u001b[0;34m,\u001b[0m \u001b[0mmean\u001b[0m\u001b[0;34m,\u001b[0m \u001b[0m_\u001b[0m\u001b[0;34m,\u001b[0m \u001b[0mstd\u001b[0m \u001b[0;32min\u001b[0m \u001b[0mres\u001b[0m\u001b[0;34m:\u001b[0m\u001b[0;34m\u001b[0m\u001b[0m\n",
      "\u001b[0;32m/opt/conda/envs/JupyterSystemEnv/lib/python3.6/site-packages/lightgbm/engine.py\u001b[0m in \u001b[0;36mhandler_function\u001b[0;34m(*args, **kwargs)\u001b[0m\n\u001b[1;32m    292\u001b[0m             \u001b[0mret\u001b[0m \u001b[0;34m=\u001b[0m \u001b[0;34m[\u001b[0m\u001b[0;34m]\u001b[0m\u001b[0;34m\u001b[0m\u001b[0m\n\u001b[1;32m    293\u001b[0m             \u001b[0;32mfor\u001b[0m \u001b[0mbooster\u001b[0m \u001b[0;32min\u001b[0m \u001b[0mself\u001b[0m\u001b[0;34m.\u001b[0m\u001b[0mboosters\u001b[0m\u001b[0;34m:\u001b[0m\u001b[0;34m\u001b[0m\u001b[0m\n\u001b[0;32m--> 294\u001b[0;31m                 \u001b[0mret\u001b[0m\u001b[0;34m.\u001b[0m\u001b[0mappend\u001b[0m\u001b[0;34m(\u001b[0m\u001b[0mgetattr\u001b[0m\u001b[0;34m(\u001b[0m\u001b[0mbooster\u001b[0m\u001b[0;34m,\u001b[0m \u001b[0mname\u001b[0m\u001b[0;34m)\u001b[0m\u001b[0;34m(\u001b[0m\u001b[0;34m*\u001b[0m\u001b[0margs\u001b[0m\u001b[0;34m,\u001b[0m \u001b[0;34m**\u001b[0m\u001b[0mkwargs\u001b[0m\u001b[0;34m)\u001b[0m\u001b[0;34m)\u001b[0m\u001b[0;34m\u001b[0m\u001b[0m\n\u001b[0m\u001b[1;32m    295\u001b[0m             \u001b[0;32mreturn\u001b[0m \u001b[0mret\u001b[0m\u001b[0;34m\u001b[0m\u001b[0m\n\u001b[1;32m    296\u001b[0m         \u001b[0;32mreturn\u001b[0m \u001b[0mhandler_function\u001b[0m\u001b[0;34m\u001b[0m\u001b[0m\n",
      "\u001b[0;32m/opt/conda/envs/JupyterSystemEnv/lib/python3.6/site-packages/lightgbm/basic.py\u001b[0m in \u001b[0;36mupdate\u001b[0;34m(self, train_set, fobj)\u001b[0m\n\u001b[1;32m   1974\u001b[0m             _safe_call(_LIB.LGBM_BoosterUpdateOneIter(\n\u001b[1;32m   1975\u001b[0m                 \u001b[0mself\u001b[0m\u001b[0;34m.\u001b[0m\u001b[0mhandle\u001b[0m\u001b[0;34m,\u001b[0m\u001b[0;34m\u001b[0m\u001b[0m\n\u001b[0;32m-> 1976\u001b[0;31m                 ctypes.byref(is_finished)))\n\u001b[0m\u001b[1;32m   1977\u001b[0m             \u001b[0mself\u001b[0m\u001b[0;34m.\u001b[0m\u001b[0m__is_predicted_cur_iter\u001b[0m \u001b[0;34m=\u001b[0m \u001b[0;34m[\u001b[0m\u001b[0;32mFalse\u001b[0m \u001b[0;32mfor\u001b[0m \u001b[0m_\u001b[0m \u001b[0;32min\u001b[0m \u001b[0mrange_\u001b[0m\u001b[0;34m(\u001b[0m\u001b[0mself\u001b[0m\u001b[0;34m.\u001b[0m\u001b[0m__num_dataset\u001b[0m\u001b[0;34m)\u001b[0m\u001b[0;34m]\u001b[0m\u001b[0;34m\u001b[0m\u001b[0m\n\u001b[1;32m   1978\u001b[0m             \u001b[0;32mreturn\u001b[0m \u001b[0mis_finished\u001b[0m\u001b[0;34m.\u001b[0m\u001b[0mvalue\u001b[0m \u001b[0;34m==\u001b[0m \u001b[0;36m1\u001b[0m\u001b[0;34m\u001b[0m\u001b[0m\n",
      "\u001b[0;31mKeyboardInterrupt\u001b[0m: "
     ]
    }
   ],
   "source": [
    "cv_results = lgb.cv(\n",
    "    params, train_data_lgb, num_boost_round=100000, nfold=5, stratified=False, shuffle=True, metrics='mse',verbose_eval = 50,\n",
    "    early_stopping_rounds=3000,  seed=0)"
   ]
  },
  {
   "cell_type": "code",
   "execution_count": 10,
   "metadata": {},
   "outputs": [
    {
     "data": {
      "text/plain": [
       "13060"
      ]
     },
     "execution_count": 10,
     "metadata": {},
     "output_type": "execute_result"
    }
   ],
   "source": [
    "len(cv_results['l2-mean'])"
   ]
  },
  {
   "cell_type": "code",
   "execution_count": 23,
   "metadata": {},
   "outputs": [],
   "source": [
    "params = {                   \"objective\":'regression',\n",
    "                              \"metric\":'mse',\n",
    "                              \"learning_rate\":0.01,\n",
    "                              'n_estimators':13060,\n",
    "                              \"max_depth\":7,\n",
    "                              \"num_leaves\":47,\n",
    "                              \"min_child_samples\" : 20,\n",
    "                              \"min_child_weight\" : 0.001,\n",
    "                              \"bagging_fraction\" : 0.75,\n",
    "                              \"feature_fraction\" : 0.65,\n",
    "                              \"lambda_l1\" : 0.5,\n",
    "                              \"lambda_l2\" : 1.0,\n",
    "                             \n",
    "    \n",
    "}"
   ]
  },
  {
   "cell_type": "code",
   "execution_count": 24,
   "metadata": {},
   "outputs": [],
   "source": [
    "model_lgb = lgb.LGBMRegressor(**params)"
   ]
  },
  {
   "cell_type": "code",
   "execution_count": 25,
   "metadata": {},
   "outputs": [
    {
     "data": {
      "text/plain": [
       "LGBMRegressor(bagging_fraction=0.75, feature_fraction=0.65, lambda_l1=0.5,\n",
       "              lambda_l2=1.0, learning_rate=0.01, max_depth=7, metric='mse',\n",
       "              n_estimators=13060, num_leaves=47, objective='regression')"
      ]
     },
     "execution_count": 25,
     "metadata": {},
     "output_type": "execute_result"
    }
   ],
   "source": [
    "model_lgb.fit(train_x,train_y)"
   ]
  },
  {
   "cell_type": "code",
   "execution_count": 27,
   "metadata": {},
   "outputs": [],
   "source": [
    "tt = model_lgb.predict(test_x)"
   ]
  },
  {
   "cell_type": "code",
   "execution_count": 28,
   "metadata": {},
   "outputs": [
    {
     "data": {
      "text/plain": [
       "-2.918143924892387"
      ]
     },
     "execution_count": 28,
     "metadata": {},
     "output_type": "execute_result"
    }
   ],
   "source": [
    "np.min(tt)"
   ]
  },
  {
   "cell_type": "code",
   "execution_count": 29,
   "metadata": {},
   "outputs": [
    {
     "data": {
      "text/plain": [
       "1.0648997283734811"
      ]
     },
     "execution_count": 29,
     "metadata": {},
     "output_type": "execute_result"
    }
   ],
   "source": [
    "np.max(tt)"
   ]
  },
  {
   "cell_type": "code",
   "execution_count": 30,
   "metadata": {},
   "outputs": [],
   "source": [
    "pred_data['temperature'] = pred_out_temp+ tt\n",
    "pred_data.to_csv('upload_files/lgb_lr001_csdn_8.csv',index = False)"
   ]
  },
  {
   "cell_type": "code",
   "execution_count": null,
   "metadata": {},
   "outputs": [],
   "source": []
  },
  {
   "cell_type": "code",
   "execution_count": null,
   "metadata": {},
   "outputs": [],
   "source": []
  },
  {
   "cell_type": "code",
   "execution_count": null,
   "metadata": {},
   "outputs": [],
   "source": []
  },
  {
   "cell_type": "code",
   "execution_count": null,
   "metadata": {},
   "outputs": [],
   "source": []
  },
  {
   "cell_type": "code",
   "execution_count": null,
   "metadata": {},
   "outputs": [],
   "source": []
  },
  {
   "cell_type": "code",
   "execution_count": null,
   "metadata": {},
   "outputs": [],
   "source": []
  },
  {
   "cell_type": "code",
   "execution_count": null,
   "metadata": {},
   "outputs": [],
   "source": []
  },
  {
   "cell_type": "code",
   "execution_count": null,
   "metadata": {},
   "outputs": [],
   "source": []
  },
  {
   "cell_type": "code",
   "execution_count": null,
   "metadata": {},
   "outputs": [],
   "source": []
  },
  {
   "cell_type": "code",
   "execution_count": null,
   "metadata": {},
   "outputs": [],
   "source": []
  },
  {
   "cell_type": "raw",
   "metadata": {},
   "source": [
    "xgboost模型处"
   ]
  },
  {
   "cell_type": "code",
   "execution_count": 22,
   "metadata": {},
   "outputs": [
    {
     "name": "stderr",
     "output_type": "stream",
     "text": [
      "100%|██████████| 3/3 [01:28<00:00, 29.46s/it]\n"
     ]
    }
   ],
   "source": [
    "result = []\n",
    "for n_ in tqdm(range(59,62,1)):\n",
    "    xgb_params = {'eta': 0.1, 'n_estimators': n_, 'gamma': 0, 'max_depth': 6, 'min_child_weight': 1,\n",
    "                    'colsample_bytree': 1, 'colsample_bylevel': 1, 'subsample': 1, 'reg_lambda': 1, 'reg_alpha': 0,\n",
    "                    'seed': 2020}\n",
    "    regress_model = xgb.XGBRegressor(**xgb_params)\n",
    "    regress_model.fit(train_x_,train_y_)\n",
    "    tt = regress_model.predict(test_x_)\n",
    "    result.append(mean_squared_error(test_y_,tt))"
   ]
  },
  {
   "cell_type": "raw",
   "metadata": {},
   "source": [
    "目前的最佳n_estimators = 60\n",
    "xgb_params = {'eta': 0.1, 'n_estimators': 60, 'gamma': 0, 'max_depth': 6, 'min_child_weight': 1,\n",
    "                    'colsample_bytree': 1, 'colsample_bylevel': 1, 'subsample': 1, 'reg_lambda': 1, 'reg_alpha': 0,\n",
    "                    'seed': 2020}"
   ]
  },
  {
   "cell_type": "code",
   "execution_count": 26,
   "metadata": {},
   "outputs": [
    {
     "name": "stderr",
     "output_type": "stream",
     "text": [
      "100%|██████████| 4/4 [01:35<00:00, 23.99s/it]\n"
     ]
    }
   ],
   "source": [
    "result = []\n",
    "for depth in tqdm([3,4,5,7]):\n",
    "    xgb_params = {'eta': 0.1, 'n_estimators': 60, 'gamma': 0, 'max_depth': depth, 'min_child_weight': 1,\n",
    "                    'colsample_bytree': 1, 'colsample_bylevel': 1, 'subsample': 1, 'reg_lambda': 1, 'reg_alpha': 0,\n",
    "                    'seed': 2020}\n",
    "    regress_model = xgb.XGBRegressor(**xgb_params)\n",
    "    regress_model.fit(train_x_,train_y_)\n",
    "    tt = regress_model.predict(test_x_)\n",
    "    result.append(mean_squared_error(test_y_,tt))"
   ]
  },
  {
   "cell_type": "raw",
   "metadata": {},
   "source": [
    "目前的最佳depth = 4 score: 0.06519888240644324\n",
    "xgb_params = {'eta': 0.1, 'n_estimators': 60, 'gamma': 0, 'max_depth': 4, 'min_child_weight': 1,\n",
    "                    'colsample_bytree': 1, 'colsample_bylevel': 1, 'subsample': 1, 'reg_lambda': 1, 'reg_alpha': 0,\n",
    "                    'seed': 2020}"
   ]
  },
  {
   "cell_type": "code",
   "execution_count": 32,
   "metadata": {},
   "outputs": [
    {
     "data": {
      "text/plain": [
       "0.06519888240644324"
      ]
     },
     "execution_count": 32,
     "metadata": {},
     "output_type": "execute_result"
    }
   ],
   "source": [
    "np.min(result)"
   ]
  },
  {
   "cell_type": "code",
   "execution_count": 33,
   "metadata": {},
   "outputs": [
    {
     "name": "stderr",
     "output_type": "stream",
     "text": [
      "100%|██████████| 10/10 [03:23<00:00, 20.35s/it]\n"
     ]
    }
   ],
   "source": [
    "result = []\n",
    "for child_w in tqdm(range(1,11,1)):\n",
    "    xgb_params = {'eta': 0.1, 'n_estimators': 60, 'gamma': 0, 'max_depth': 4, 'min_child_weight': child_w,\n",
    "                    'colsample_bytree': 1, 'colsample_bylevel': 1, 'subsample': 1, 'reg_lambda': 1, 'reg_alpha': 0,\n",
    "                    'seed': 2020}\n",
    "    regress_model = xgb.XGBRegressor(**xgb_params)\n",
    "    regress_model.fit(train_x_,train_y_)\n",
    "    tt = regress_model.predict(test_x_)\n",
    "    result.append(mean_squared_error(test_y_,tt))"
   ]
  },
  {
   "cell_type": "code",
   "execution_count": 37,
   "metadata": {},
   "outputs": [
    {
     "data": {
      "text/plain": [
       "0.06312800065993317"
      ]
     },
     "execution_count": 37,
     "metadata": {},
     "output_type": "execute_result"
    }
   ],
   "source": [
    "np.min(result)"
   ]
  },
  {
   "cell_type": "raw",
   "metadata": {},
   "source": [
    "目前的最佳child_w = 5 score: 0.06312800065993317\n",
    "xgb_params = {'eta': 0.1, 'n_estimators': 60, 'gamma': 0, 'max_depth': 4, 'min_child_weight':5,\n",
    "                    'colsample_bytree': 1, 'colsample_bylevel': 1, 'subsample': 1, 'reg_lambda': 1, 'reg_alpha': 0,\n",
    "                    'seed': 2020}"
   ]
  },
  {
   "cell_type": "code",
   "execution_count": 57,
   "metadata": {},
   "outputs": [
    {
     "name": "stderr",
     "output_type": "stream",
     "text": [
      "100%|██████████| 3/3 [01:01<00:00, 20.40s/it]\n"
     ]
    }
   ],
   "source": [
    "result = []\n",
    "for gamma in tqdm(range(50,53,1)):\n",
    "    xgb_params = {'eta': 0.1, 'n_estimators': 60, 'gamma': 0, 'max_depth': 4, 'min_child_weight': 5,'gamma':gamma/100,\n",
    "                    'colsample_bytree': 1, 'colsample_bylevel': 1, 'subsample': 1, 'reg_lambda': 1, 'reg_alpha': 0,\n",
    "                    'seed': 2020}\n",
    "    regress_model = xgb.XGBRegressor(**xgb_params)\n",
    "    regress_model.fit(train_x_,train_y_)\n",
    "    tt = regress_model.predict(test_x_)\n",
    "    result.append(mean_squared_error(test_y_,tt))"
   ]
  },
  {
   "cell_type": "raw",
   "metadata": {},
   "source": [
    "目前的最佳gamma = 0.49 score: 0.0627左右\n",
    "xgb_params = {'eta': 0.1, 'n_estimators': 60, 'gamma': 0, 'max_depth': 4, 'min_child_weight':5,'gamma':0.49,\n",
    "                    'colsample_bytree': 1, 'colsample_bylevel': 1, 'subsample': 1, 'reg_lambda': 1, 'reg_alpha': 0,\n",
    "                    'seed': 2020}"
   ]
  },
  {
   "cell_type": "code",
   "execution_count": 67,
   "metadata": {},
   "outputs": [
    {
     "name": "stderr",
     "output_type": "stream",
     "text": [
      "100%|██████████| 19/19 [08:05<00:00, 25.54s/it]\n"
     ]
    }
   ],
   "source": [
    "result = []\n",
    "for sample in tqdm(range(61,80,1)):\n",
    "    xgb_params = {'eta': 0.1, 'n_estimators': 60, 'gamma': 0, 'max_depth': 4, 'min_child_weight': 5,'gamma':0.49,\n",
    "                  'subsample': sample/100,\n",
    "                    'colsample_bytree': 1, 'colsample_bylevel': 1,  'reg_lambda': 1, 'reg_alpha': 0,\n",
    "                    'seed': 2020}\n",
    "    regress_model = xgb.XGBRegressor(**xgb_params)\n",
    "    regress_model.fit(train_x_,train_y_)\n",
    "    tt = regress_model.predict(test_x_)\n",
    "    result.append(mean_squared_error(test_y_,tt))"
   ]
  },
  {
   "cell_type": "raw",
   "metadata": {},
   "source": [
    "目前的最佳subsample = 0.76 score: 0.06090885056149758\n",
    "xgb_params = {'eta': 0.1, 'n_estimators': 60, 'gamma': 0, 'max_depth': 4, 'min_child_weight':5,'gamma':0.49,\n",
    "                    'subsample': 0.76,\n",
    "                    'colsample_bytree': 1, 'colsample_bylevel': 1,  'reg_lambda': 1, 'reg_alpha': 0,\n",
    "                    'seed': 2020}"
   ]
  },
  {
   "cell_type": "code",
   "execution_count": 76,
   "metadata": {},
   "outputs": [
    {
     "name": "stderr",
     "output_type": "stream",
     "text": [
      "100%|██████████| 19/19 [05:11<00:00, 16.38s/it]\n"
     ]
    }
   ],
   "source": [
    "result = []\n",
    "for sample in tqdm(range(51,70,1)):\n",
    "    xgb_params = {'eta': 0.1, 'n_estimators': 60, 'gamma': 0, 'max_depth': 4, 'min_child_weight': 5,'gamma':0.49,'subsample': 0.76,\n",
    "                   'colsample_bytree': sample/100,\n",
    "                    'colsample_bylevel': 1,  'reg_lambda': 1, 'reg_alpha': 0,\n",
    "                    'seed': 2020}\n",
    "    regress_model = xgb.XGBRegressor(**xgb_params)\n",
    "    regress_model.fit(train_x_,train_y_)\n",
    "    tt = regress_model.predict(test_x_)\n",
    "    result.append(mean_squared_error(test_y_,tt))"
   ]
  },
  {
   "cell_type": "raw",
   "metadata": {},
   "source": [
    "目前的最佳colsample_bytree = 0.59 score: 0.05979637255340501\n",
    "xgb_params = {'eta': 0.1, 'n_estimators': 60, 'gamma': 0, 'max_depth': 4, 'min_child_weight':5,'gamma':0.49,'subsample': 0.76,'colsample_bytree': 0.59,\n",
    "                    \n",
    "                     'colsample_bylevel': 1,  'reg_lambda': 1, 'reg_alpha': 0,\n",
    "                    'seed': 2020}"
   ]
  },
  {
   "cell_type": "code",
   "execution_count": 94,
   "metadata": {},
   "outputs": [
    {
     "name": "stderr",
     "output_type": "stream",
     "text": [
      "100%|██████████| 19/19 [05:07<00:00, 16.17s/it]\n"
     ]
    }
   ],
   "source": [
    "result = []\n",
    "for lambda_ in tqdm(range(51,70,1)):\n",
    "    xgb_params = {'eta': 0.1, 'n_estimators': 60, 'gamma': 0, 'max_depth': 4, 'min_child_weight': 5,'gamma':0.49,'subsample': 0.76,'colsample_bytree': 0.59,\n",
    "                   'reg_lambda': lambda_,\n",
    "                    'colsample_bylevel': 1,   'reg_alpha': 0,\n",
    "                    'seed': 2020}\n",
    "    regress_model = xgb.XGBRegressor(**xgb_params)\n",
    "    regress_model.fit(train_x_,train_y_)\n",
    "    tt = regress_model.predict(test_x_)\n",
    "    result.append(mean_squared_error(test_y_,tt))"
   ]
  },
  {
   "cell_type": "raw",
   "metadata": {},
   "source": [
    "目前的最佳 reg_lambda = 59 score: 0.055014925636503766\n",
    "xgb_params = {'eta': 0.1, 'n_estimators': 60, 'gamma': 0, 'max_depth': 4, 'min_child_weight':5,'gamma':0.49,'subsample': 0.76,'colsample_bytree': 0.59,\n",
    "                    'reg_lambda': 59,\n",
    "                     'colsample_bylevel': 1,   'reg_alpha': 0,\n",
    "                    'seed': 2020}"
   ]
  },
  {
   "cell_type": "code",
   "execution_count": 100,
   "metadata": {},
   "outputs": [
    {
     "name": "stderr",
     "output_type": "stream",
     "text": [
      "100%|██████████| 10/10 [02:43<00:00, 16.34s/it]\n"
     ]
    }
   ],
   "source": [
    "result = []\n",
    "for alpha in tqdm(range(1,101,10)):\n",
    "    xgb_params = {'eta': 0.1, 'n_estimators': 60, 'gamma': 0, 'max_depth': 4, 'min_child_weight': 5,'gamma':0.49,'subsample': 0.76,'colsample_bytree': 0.59,\n",
    "                   'reg_lambda': 59,\n",
    "                      'reg_alpha':alpha,\n",
    "                    'colsample_bylevel': 1,   \n",
    "                    'seed': 2020}\n",
    "    regress_model = xgb.XGBRegressor(**xgb_params)\n",
    "    regress_model.fit(train_x_,train_y_)\n",
    "    tt = regress_model.predict(test_x_)\n",
    "    result.append(mean_squared_error(test_y_,tt))"
   ]
  },
  {
   "cell_type": "raw",
   "metadata": {},
   "source": [
    "目前的最佳 reg_alpha =0 score: 0.055014925636503766\n",
    "xgb_params = {'eta': 0.1, 'n_estimators': 60, 'gamma': 0, 'max_depth': 4, 'min_child_weight':5,'gamma':0.49,'subsample': 0.76,'colsample_bytree': 0.59,\n",
    "                    'reg_lambda': 59,'reg_alpha': 0,\n",
    "                     'colsample_bylevel': 1,   \n",
    "                    'seed': 2020}"
   ]
  },
  {
   "cell_type": "code",
   "execution_count": 9,
   "metadata": {},
   "outputs": [],
   "source": [
    "xgb_params = {'eta': 0.01, 'n_estimators': 10000, 'gamma': 0, 'max_depth': 4, 'min_child_weight':5,'gamma':0.49,'subsample': 0.76,'colsample_bytree': 0.59,\n",
    "                    'reg_lambda': 59,'reg_alpha': 0, 'colsample_bylevel': 1,'seed': 2020}\n"
   ]
  },
  {
   "cell_type": "code",
   "execution_count": 10,
   "metadata": {},
   "outputs": [],
   "source": [
    "xgb_model_best = xgb.XGBRegressor(**xgb_params)"
   ]
  },
  {
   "cell_type": "code",
   "execution_count": 53,
   "metadata": {},
   "outputs": [],
   "source": [
    "valid_set = [(test_x_,test_y_)]"
   ]
  },
  {
   "cell_type": "code",
   "execution_count": null,
   "metadata": {},
   "outputs": [],
   "source": [
    "xgb_model_best.fit(train_x_,train_y_,early_stopping_rounds = 50,eval_set = valid_set)"
   ]
  },
  {
   "cell_type": "code",
   "execution_count": 56,
   "metadata": {},
   "outputs": [],
   "source": [
    "xgb_params_final = {'eta': 0.01, 'n_estimators': 445, 'gamma': 0, 'max_depth': 4, 'min_child_weight':5,'gamma':0.49,'subsample': 0.76,'colsample_bytree': 0.59,\n",
    "                    'reg_lambda': 59,'reg_alpha': 0, 'colsample_bylevel': 1,'seed': 2020}\n"
   ]
  },
  {
   "cell_type": "code",
   "execution_count": 57,
   "metadata": {},
   "outputs": [],
   "source": [
    "xgb_model_best = xgb.XGBRegressor(**xgb_params_final)"
   ]
  },
  {
   "cell_type": "code",
   "execution_count": 58,
   "metadata": {},
   "outputs": [
    {
     "data": {
      "text/plain": [
       "XGBRegressor(base_score=0.5, booster='gbtree', colsample_bylevel=1,\n",
       "             colsample_bynode=1, colsample_bytree=0.59, eta=0.01, gamma=0.49,\n",
       "             gpu_id=-1, importance_type='gain', interaction_constraints='',\n",
       "             learning_rate=0.00999999978, max_delta_step=0, max_depth=4,\n",
       "             min_child_weight=5, missing=nan, monotone_constraints='()',\n",
       "             n_estimators=445, n_jobs=0, num_parallel_tree=1, random_state=2020,\n",
       "             reg_alpha=0, reg_lambda=59, scale_pos_weight=1, seed=2020,\n",
       "             subsample=0.76, tree_method='exact', validate_parameters=1,\n",
       "             verbosity=None)"
      ]
     },
     "execution_count": 58,
     "metadata": {},
     "output_type": "execute_result"
    }
   ],
   "source": [
    "xgb_model_best.fit(train_x,train_y)"
   ]
  },
  {
   "cell_type": "code",
   "execution_count": 59,
   "metadata": {},
   "outputs": [],
   "source": [
    "tt = xgb_model_best.predict(test_x)"
   ]
  },
  {
   "cell_type": "code",
   "execution_count": 60,
   "metadata": {},
   "outputs": [
    {
     "data": {
      "text/plain": [
       "-2.5179243"
      ]
     },
     "execution_count": 60,
     "metadata": {},
     "output_type": "execute_result"
    }
   ],
   "source": [
    "np.min(tt)"
   ]
  },
  {
   "cell_type": "code",
   "execution_count": 61,
   "metadata": {},
   "outputs": [
    {
     "data": {
      "text/plain": [
       "0.8464936"
      ]
     },
     "execution_count": 61,
     "metadata": {},
     "output_type": "execute_result"
    }
   ],
   "source": [
    "np.max(tt)"
   ]
  },
  {
   "cell_type": "code",
   "execution_count": 62,
   "metadata": {},
   "outputs": [],
   "source": [
    "pred_data['temperature'] = pred_out_temp+ tt"
   ]
  },
  {
   "cell_type": "code",
   "execution_count": 63,
   "metadata": {},
   "outputs": [],
   "source": [
    "pred_data.to_csv('upload_files/xgb_adjust_0808.csv',index = False)"
   ]
  },
  {
   "cell_type": "code",
   "execution_count": null,
   "metadata": {},
   "outputs": [],
   "source": []
  },
  {
   "cell_type": "code",
   "execution_count": 32,
   "metadata": {},
   "outputs": [],
   "source": [
    "xgb_model_ = xgb.XGBRegressor()"
   ]
  },
  {
   "cell_type": "code",
   "execution_count": 33,
   "metadata": {},
   "outputs": [
    {
     "data": {
      "text/plain": [
       "XGBRegressor(base_score=0.5, booster='gbtree', colsample_bylevel=1,\n",
       "             colsample_bynode=1, colsample_bytree=1, gamma=0, gpu_id=-1,\n",
       "             importance_type='gain', interaction_constraints='',\n",
       "             learning_rate=0.300000012, max_delta_step=0, max_depth=6,\n",
       "             min_child_weight=1, missing=nan, monotone_constraints='()',\n",
       "             n_estimators=100, n_jobs=0, num_parallel_tree=1, random_state=0,\n",
       "             reg_alpha=0, reg_lambda=1, scale_pos_weight=1, subsample=1,\n",
       "             tree_method='exact', validate_parameters=1, verbosity=None)"
      ]
     },
     "execution_count": 33,
     "metadata": {},
     "output_type": "execute_result"
    }
   ],
   "source": [
    "xgb_model_.fit(train_x,train_y)"
   ]
  },
  {
   "cell_type": "code",
   "execution_count": 34,
   "metadata": {},
   "outputs": [],
   "source": [
    "tt = xgb_model_.predict(test_x)"
   ]
  },
  {
   "cell_type": "code",
   "execution_count": 35,
   "metadata": {},
   "outputs": [
    {
     "data": {
      "text/plain": [
       "-2.818575"
      ]
     },
     "execution_count": 35,
     "metadata": {},
     "output_type": "execute_result"
    }
   ],
   "source": [
    "np.min(tt)"
   ]
  },
  {
   "cell_type": "code",
   "execution_count": 36,
   "metadata": {},
   "outputs": [
    {
     "data": {
      "text/plain": [
       "1.1107092"
      ]
     },
     "execution_count": 36,
     "metadata": {},
     "output_type": "execute_result"
    }
   ],
   "source": [
    "np.max(tt)"
   ]
  },
  {
   "cell_type": "code",
   "execution_count": 37,
   "metadata": {},
   "outputs": [],
   "source": [
    "pred_data['temperature'] = pred_out_temp+ tt\n",
    "pred_data.to_csv('upload_files/xgb_non_adjust_csdn_8.csv',index = False)"
   ]
  },
  {
   "cell_type": "code",
   "execution_count": 38,
   "metadata": {},
   "outputs": [],
   "source": [
    "pred_data.to_csv('upload_files/xgb_non_adjust_csdn_8.csv',index = False)"
   ]
  },
  {
   "cell_type": "code",
   "execution_count": null,
   "metadata": {},
   "outputs": [],
   "source": []
  },
  {
   "cell_type": "code",
   "execution_count": null,
   "metadata": {},
   "outputs": [],
   "source": []
  },
  {
   "cell_type": "code",
   "execution_count": null,
   "metadata": {},
   "outputs": [],
   "source": []
  },
  {
   "cell_type": "code",
   "execution_count": null,
   "metadata": {},
   "outputs": [],
   "source": []
  },
  {
   "cell_type": "raw",
   "metadata": {},
   "source": [
    "catboost开始"
   ]
  },
  {
   "cell_type": "code",
   "execution_count": 78,
   "metadata": {},
   "outputs": [],
   "source": [
    "model_ctb = cb.CatBoostRegressor(iterations=1500)"
   ]
  },
  {
   "cell_type": "code",
   "execution_count": 79,
   "metadata": {},
   "outputs": [
    {
     "name": "stdout",
     "output_type": "stream",
     "text": [
      "Learning rate set to 0.050793\n",
      "0:\tlearn: 0.7034279\ttotal: 125ms\tremaining: 3m 8s\n",
      "20:\tlearn: 0.3378718\ttotal: 2.51s\tremaining: 2m 56s\n",
      "40:\tlearn: 0.2285099\ttotal: 4.82s\tremaining: 2m 51s\n",
      "60:\tlearn: 0.1940251\ttotal: 7.17s\tremaining: 2m 49s\n",
      "80:\tlearn: 0.1777303\ttotal: 9.45s\tremaining: 2m 45s\n",
      "100:\tlearn: 0.1669095\ttotal: 11.7s\tremaining: 2m 42s\n",
      "120:\tlearn: 0.1584057\ttotal: 14s\tremaining: 2m 39s\n",
      "140:\tlearn: 0.1524089\ttotal: 16.2s\tremaining: 2m 36s\n",
      "160:\tlearn: 0.1464726\ttotal: 18.5s\tremaining: 2m 34s\n",
      "180:\tlearn: 0.1416549\ttotal: 20.8s\tremaining: 2m 31s\n",
      "200:\tlearn: 0.1367536\ttotal: 23.1s\tremaining: 2m 29s\n",
      "220:\tlearn: 0.1324560\ttotal: 25.3s\tremaining: 2m 26s\n",
      "240:\tlearn: 0.1287736\ttotal: 27.5s\tremaining: 2m 23s\n",
      "260:\tlearn: 0.1253937\ttotal: 29.7s\tremaining: 2m 21s\n",
      "280:\tlearn: 0.1224059\ttotal: 32.1s\tremaining: 2m 19s\n",
      "300:\tlearn: 0.1199190\ttotal: 34.3s\tremaining: 2m 16s\n",
      "320:\tlearn: 0.1173949\ttotal: 36.6s\tremaining: 2m 14s\n",
      "340:\tlearn: 0.1153392\ttotal: 38.8s\tremaining: 2m 11s\n",
      "360:\tlearn: 0.1134319\ttotal: 41s\tremaining: 2m 9s\n",
      "380:\tlearn: 0.1113872\ttotal: 43.2s\tremaining: 2m 6s\n",
      "400:\tlearn: 0.1093340\ttotal: 45.4s\tremaining: 2m 4s\n",
      "420:\tlearn: 0.1074033\ttotal: 47.7s\tremaining: 2m 2s\n",
      "440:\tlearn: 0.1057663\ttotal: 49.8s\tremaining: 1m 59s\n",
      "460:\tlearn: 0.1041223\ttotal: 52s\tremaining: 1m 57s\n",
      "480:\tlearn: 0.1025768\ttotal: 54.3s\tremaining: 1m 54s\n",
      "500:\tlearn: 0.1012166\ttotal: 56.4s\tremaining: 1m 52s\n",
      "520:\tlearn: 0.1000083\ttotal: 58.6s\tremaining: 1m 50s\n",
      "540:\tlearn: 0.0988232\ttotal: 1m\tremaining: 1m 47s\n",
      "560:\tlearn: 0.0975471\ttotal: 1m 2s\tremaining: 1m 45s\n",
      "580:\tlearn: 0.0964593\ttotal: 1m 5s\tremaining: 1m 43s\n",
      "600:\tlearn: 0.0952662\ttotal: 1m 7s\tremaining: 1m 40s\n",
      "620:\tlearn: 0.0942571\ttotal: 1m 9s\tremaining: 1m 38s\n",
      "640:\tlearn: 0.0932585\ttotal: 1m 11s\tremaining: 1m 36s\n",
      "660:\tlearn: 0.0922824\ttotal: 1m 14s\tremaining: 1m 34s\n",
      "680:\tlearn: 0.0912385\ttotal: 1m 16s\tremaining: 1m 31s\n",
      "700:\tlearn: 0.0902886\ttotal: 1m 18s\tremaining: 1m 29s\n",
      "720:\tlearn: 0.0893280\ttotal: 1m 21s\tremaining: 1m 27s\n",
      "740:\tlearn: 0.0883533\ttotal: 1m 23s\tremaining: 1m 25s\n",
      "760:\tlearn: 0.0875392\ttotal: 1m 25s\tremaining: 1m 22s\n",
      "780:\tlearn: 0.0868685\ttotal: 1m 27s\tremaining: 1m 20s\n",
      "800:\tlearn: 0.0861271\ttotal: 1m 29s\tremaining: 1m 18s\n",
      "820:\tlearn: 0.0853206\ttotal: 1m 32s\tremaining: 1m 16s\n",
      "840:\tlearn: 0.0845321\ttotal: 1m 34s\tremaining: 1m 13s\n",
      "860:\tlearn: 0.0838109\ttotal: 1m 36s\tremaining: 1m 11s\n",
      "880:\tlearn: 0.0831442\ttotal: 1m 38s\tremaining: 1m 9s\n",
      "900:\tlearn: 0.0824754\ttotal: 1m 41s\tremaining: 1m 7s\n",
      "920:\tlearn: 0.0818854\ttotal: 1m 43s\tremaining: 1m 5s\n",
      "940:\tlearn: 0.0812628\ttotal: 1m 45s\tremaining: 1m 2s\n",
      "960:\tlearn: 0.0806820\ttotal: 1m 47s\tremaining: 1m\n",
      "980:\tlearn: 0.0801351\ttotal: 1m 50s\tremaining: 58.3s\n",
      "1000:\tlearn: 0.0795343\ttotal: 1m 52s\tremaining: 56s\n",
      "1020:\tlearn: 0.0789715\ttotal: 1m 54s\tremaining: 53.8s\n",
      "1040:\tlearn: 0.0784603\ttotal: 1m 56s\tremaining: 51.5s\n",
      "1060:\tlearn: 0.0779609\ttotal: 1m 58s\tremaining: 49.2s\n",
      "1080:\tlearn: 0.0773955\ttotal: 2m 1s\tremaining: 47s\n",
      "1100:\tlearn: 0.0768838\ttotal: 2m 3s\tremaining: 44.7s\n",
      "1120:\tlearn: 0.0763748\ttotal: 2m 5s\tremaining: 42.5s\n",
      "1140:\tlearn: 0.0758671\ttotal: 2m 7s\tremaining: 40.2s\n",
      "1160:\tlearn: 0.0754021\ttotal: 2m 10s\tremaining: 38s\n",
      "1180:\tlearn: 0.0749138\ttotal: 2m 12s\tremaining: 35.8s\n",
      "1200:\tlearn: 0.0744920\ttotal: 2m 14s\tremaining: 33.5s\n",
      "1220:\tlearn: 0.0740711\ttotal: 2m 16s\tremaining: 31.3s\n",
      "1240:\tlearn: 0.0736704\ttotal: 2m 19s\tremaining: 29s\n",
      "1260:\tlearn: 0.0732206\ttotal: 2m 21s\tremaining: 26.8s\n",
      "1280:\tlearn: 0.0727974\ttotal: 2m 23s\tremaining: 24.6s\n",
      "1300:\tlearn: 0.0723912\ttotal: 2m 25s\tremaining: 22.3s\n",
      "1320:\tlearn: 0.0719765\ttotal: 2m 28s\tremaining: 20.1s\n",
      "1340:\tlearn: 0.0716384\ttotal: 2m 30s\tremaining: 17.8s\n",
      "1360:\tlearn: 0.0712526\ttotal: 2m 32s\tremaining: 15.6s\n",
      "1380:\tlearn: 0.0708639\ttotal: 2m 34s\tremaining: 13.3s\n",
      "1400:\tlearn: 0.0704646\ttotal: 2m 36s\tremaining: 11.1s\n",
      "1420:\tlearn: 0.0700736\ttotal: 2m 39s\tremaining: 8.85s\n",
      "1440:\tlearn: 0.0697100\ttotal: 2m 41s\tremaining: 6.61s\n",
      "1460:\tlearn: 0.0693468\ttotal: 2m 43s\tremaining: 4.37s\n",
      "1480:\tlearn: 0.0689353\ttotal: 2m 46s\tremaining: 2.13s\n",
      "1499:\tlearn: 0.0686234\ttotal: 2m 48s\tremaining: 0us\n"
     ]
    },
    {
     "data": {
      "text/plain": [
       "<catboost.core.CatBoostRegressor at 0x7fdee6aca7f0>"
      ]
     },
     "execution_count": 79,
     "metadata": {},
     "output_type": "execute_result"
    }
   ],
   "source": [
    "model_ctb.fit(train_x,train_y,verbose=20)"
   ]
  },
  {
   "cell_type": "raw",
   "metadata": {},
   "source": [
    "model_ctb.fit(train_x,train_y,eval_set = [(test_x_,test_y_)],verbose= 20 ,early_stopping_rounds=5000)"
   ]
  },
  {
   "cell_type": "code",
   "execution_count": 80,
   "metadata": {},
   "outputs": [],
   "source": [
    "tt = model_ctb.predict(test_x)"
   ]
  },
  {
   "cell_type": "code",
   "execution_count": 81,
   "metadata": {},
   "outputs": [
    {
     "data": {
      "text/plain": [
       "-2.8809497060430656"
      ]
     },
     "execution_count": 81,
     "metadata": {},
     "output_type": "execute_result"
    }
   ],
   "source": [
    "np.min(tt)"
   ]
  },
  {
   "cell_type": "code",
   "execution_count": 82,
   "metadata": {},
   "outputs": [
    {
     "data": {
      "text/plain": [
       "0.9383923676408621"
      ]
     },
     "execution_count": 82,
     "metadata": {},
     "output_type": "execute_result"
    }
   ],
   "source": [
    "np.max(tt)"
   ]
  },
  {
   "cell_type": "raw",
   "metadata": {},
   "source": [
    "ctb_params_1:(iterations=200,learning_rate=0.03,depth=6, l2_leaf_reg=3,loss_function='MAE',eval_metric='MAE',random_seed = 2020,)"
   ]
  },
  {
   "cell_type": "code",
   "execution_count": null,
   "metadata": {},
   "outputs": [],
   "source": []
  },
  {
   "cell_type": "code",
   "execution_count": null,
   "metadata": {},
   "outputs": [],
   "source": []
  },
  {
   "cell_type": "code",
   "execution_count": null,
   "metadata": {},
   "outputs": [],
   "source": []
  },
  {
   "cell_type": "code",
   "execution_count": 83,
   "metadata": {},
   "outputs": [],
   "source": [
    "pred_data['temperature'] = pred_out_temp+ tt\n",
    "pred_data.to_csv('upload_files/qqq_1500.csv',index = False)"
   ]
  },
  {
   "cell_type": "code",
   "execution_count": null,
   "metadata": {},
   "outputs": [],
   "source": []
  },
  {
   "cell_type": "code",
   "execution_count": null,
   "metadata": {},
   "outputs": [],
   "source": []
  },
  {
   "cell_type": "code",
   "execution_count": null,
   "metadata": {},
   "outputs": [],
   "source": []
  },
  {
   "cell_type": "code",
   "execution_count": null,
   "metadata": {},
   "outputs": [],
   "source": []
  },
  {
   "cell_type": "code",
   "execution_count": null,
   "metadata": {},
   "outputs": [],
   "source": []
  },
  {
   "cell_type": "code",
   "execution_count": null,
   "metadata": {},
   "outputs": [],
   "source": []
  },
  {
   "cell_type": "raw",
   "metadata": {},
   "source": [
    "重制版"
   ]
  },
  {
   "cell_type": "code",
   "execution_count": 5,
   "metadata": {},
   "outputs": [],
   "source": [
    "model_lgb = lgb.LGBMRegressor()"
   ]
  },
  {
   "cell_type": "code",
   "execution_count": 11,
   "metadata": {},
   "outputs": [
    {
     "data": {
      "text/plain": [
       "LGBMRegressor()"
      ]
     },
     "execution_count": 11,
     "metadata": {},
     "output_type": "execute_result"
    }
   ],
   "source": [
    "model_lgb.fit(train_x,train_y)"
   ]
  },
  {
   "cell_type": "code",
   "execution_count": 12,
   "metadata": {},
   "outputs": [],
   "source": [
    "tt = model_lgb.predict(test_x)"
   ]
  },
  {
   "cell_type": "code",
   "execution_count": 10,
   "metadata": {},
   "outputs": [
    {
     "data": {
      "text/plain": [
       "0.07657918148676764"
      ]
     },
     "execution_count": 10,
     "metadata": {},
     "output_type": "execute_result"
    }
   ],
   "source": [
    "mean_squared_error(test_y_,tt)"
   ]
  },
  {
   "cell_type": "code",
   "execution_count": 14,
   "metadata": {},
   "outputs": [
    {
     "name": "stdout",
     "output_type": "stream",
     "text": [
      "0.04245732810639653 0.03657477660499528 0.05113231307880032 0.0512150078989052 0.04791717639619361\n",
      "min 0.03657477660499528\n",
      "mean 0.04585932041705819\n"
     ]
    },
    {
     "data": {
      "text/plain": [
       "(0.03657477660499528, 0.04585932041705819)"
      ]
     },
     "execution_count": 14,
     "metadata": {},
     "output_type": "execute_result"
    }
   ],
   "source": [
    "get_score(tt)"
   ]
  },
  {
   "cell_type": "code",
   "execution_count": null,
   "metadata": {},
   "outputs": [],
   "source": []
  },
  {
   "cell_type": "code",
   "execution_count": null,
   "metadata": {},
   "outputs": [],
   "source": []
  },
  {
   "cell_type": "code",
   "execution_count": null,
   "metadata": {},
   "outputs": [],
   "source": []
  },
  {
   "cell_type": "code",
   "execution_count": null,
   "metadata": {},
   "outputs": [],
   "source": []
  },
  {
   "cell_type": "code",
   "execution_count": null,
   "metadata": {},
   "outputs": [],
   "source": []
  },
  {
   "cell_type": "code",
   "execution_count": null,
   "metadata": {},
   "outputs": [],
   "source": []
  },
  {
   "cell_type": "code",
   "execution_count": null,
   "metadata": {},
   "outputs": [],
   "source": []
  },
  {
   "cell_type": "code",
   "execution_count": null,
   "metadata": {},
   "outputs": [],
   "source": []
  },
  {
   "cell_type": "code",
   "execution_count": null,
   "metadata": {},
   "outputs": [],
   "source": []
  },
  {
   "cell_type": "code",
   "execution_count": null,
   "metadata": {},
   "outputs": [],
   "source": []
  },
  {
   "cell_type": "code",
   "execution_count": 34,
   "metadata": {},
   "outputs": [],
   "source": [
    "#验证集\n",
    "train_data_1 = pd.read_csv('upload_files/0811_4_he_1.csv')#0.12688\n",
    "train_data_2 = pd.read_csv('upload_files/cb_non_adjust_csdn_8.csv')#0.13033\n",
    "train_data_3 = pd.read_csv('upload_files/0808_lgb_adjust_002.csv')#0.13096\n",
    "train_data_4 = pd.read_csv('upload_files/0808_lgb_adjust_005.csv')#0.1323\n",
    "train_data_5 = pd.read_csv('upload_files/0804_lgb_eda_8_no_adjust.csv')#0.13121\n",
    "def get_score(tt):\n",
    "    a = train_data_1['temperature']\n",
    "    b = train_data_2['temperature']\n",
    "    c = train_data_3['temperature']\n",
    "    d = train_data_4['temperature']\n",
    "    e = train_data_5['temperature']\n",
    "    \n",
    "    data_verify = tt + pred_out_temp\n",
    "    aa = mean_squared_error(a,data_verify)\n",
    "    bb = mean_squared_error(b,data_verify)\n",
    "    cc = mean_squared_error(c,data_verify)\n",
    "    dd = mean_squared_error(d,data_verify)\n",
    "    ee = mean_squared_error(e,data_verify)\n",
    "    print(aa,bb,cc,ee,dd)\n",
    "    print('min',min(aa,bb,cc,dd,ee))\n",
    "    print('mean',(aa+bb+cc+dd+ee)/5)\n",
    "    return min(aa,bb,cc,dd,ee),(aa+bb+cc+dd+ee)/5"
   ]
  },
  {
   "cell_type": "code",
   "execution_count": 35,
   "metadata": {},
   "outputs": [
    {
     "name": "stdout",
     "output_type": "stream",
     "text": [
      "0.08208857397131823 0.06907678803553581 0.09355706993374883 0.09279199378311932 0.08993840568617693\n",
      "min 0.06907678803553581\n",
      "mean 0.08549056628197983\n"
     ]
    },
    {
     "data": {
      "text/plain": [
       "(0.06907678803553581, 0.08549056628197983)"
      ]
     },
     "execution_count": 35,
     "metadata": {},
     "output_type": "execute_result"
    }
   ],
   "source": [
    "get_score(tt)"
   ]
  },
  {
   "cell_type": "code",
   "execution_count": 36,
   "metadata": {},
   "outputs": [],
   "source": [
    "model_lgb_002 = lgb.LGBMRegressor(objective='regression',\n",
    "                              metric='mse',\n",
    "                              learning_rate=0.1,\n",
    "                              n_estimators=1000,                       \n",
    "                              num_leaves=55,\n",
    "                              bagging_fraction = 0.50,\n",
    "                              feature_fraction = 0.60,\n",
    "                                  n_jobs = 12\n",
    "                             )"
   ]
  },
  {
   "cell_type": "code",
   "execution_count": 37,
   "metadata": {},
   "outputs": [
    {
     "data": {
      "text/plain": [
       "LGBMRegressor(bagging_fraction=0.5, feature_fraction=0.6, metric='mse',\n",
       "              n_estimators=1000, n_jobs=12, num_leaves=55,\n",
       "              objective='regression')"
      ]
     },
     "execution_count": 37,
     "metadata": {},
     "output_type": "execute_result"
    }
   ],
   "source": [
    "model_lgb_002.fit(train_x,train_y)"
   ]
  },
  {
   "cell_type": "code",
   "execution_count": 38,
   "metadata": {},
   "outputs": [],
   "source": [
    "tt = model_lgb_002.predict(test_x)"
   ]
  },
  {
   "cell_type": "code",
   "execution_count": 39,
   "metadata": {},
   "outputs": [
    {
     "name": "stdout",
     "output_type": "stream",
     "text": [
      "0.07620697112723501 0.06367854651580135 0.08757477897205691 0.08652738805856657 0.08405713251582335\n",
      "min 0.06367854651580135\n",
      "mean 0.07960896343789664\n"
     ]
    },
    {
     "data": {
      "text/plain": [
       "(0.06367854651580135, 0.07960896343789664)"
      ]
     },
     "execution_count": 39,
     "metadata": {},
     "output_type": "execute_result"
    }
   ],
   "source": [
    "get_score(tt)"
   ]
  },
  {
   "cell_type": "code",
   "execution_count": null,
   "metadata": {},
   "outputs": [],
   "source": [
    "讯飞开发者大赛\n"
   ]
  }
 ],
 "metadata": {
  "kernelspec": {
   "display_name": "conda_python3",
   "language": "python",
   "name": "conda_python3"
  },
  "language_info": {
   "codemirror_mode": {
    "name": "ipython",
    "version": 3
   },
   "file_extension": ".py",
   "mimetype": "text/x-python",
   "name": "python",
   "nbconvert_exporter": "python",
   "pygments_lexer": "ipython3",
   "version": "3.6.5"
  }
 },
 "nbformat": 4,
 "nbformat_minor": 4
}
